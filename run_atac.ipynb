{
 "cells": [
  {
   "cell_type": "markdown",
   "metadata": {},
   "source": [
    "# ATAC-seq data from Chien lab"
   ]
  },
  {
   "cell_type": "markdown",
   "metadata": {},
   "source": [
    "## check current jobs"
   ]
  },
  {
   "cell_type": "code",
   "execution_count": 28,
   "metadata": {},
   "outputs": [
    {
     "name": "stdout",
     "output_type": "stream",
     "text": [
      "             JOBID PARTITION     NAME     USER ST       TIME  NODES NODELIST(REASON)\r\n",
      "           9155348     batch bulk_ata  lchen12  R    1:35:31      1 dper7425-srcf-d15-09\r\n",
      "           9155347     batch bulk_ata  lchen12  R    1:50:37      1 dper7425-srcf-d15-23\r\n",
      "           9154525     batch sys/dash  lchen12  R    4:16:52      1 sgisummit-frcf-111-30\r\n"
     ]
    }
   ],
   "source": [
    "!squeue -u lchen12"
   ]
  },
  {
   "cell_type": "markdown",
   "metadata": {},
   "source": [
    "## Run"
   ]
  },
  {
   "cell_type": "code",
   "execution_count": 22,
   "metadata": {},
   "outputs": [
    {
     "name": "stdout",
     "output_type": "stream",
     "text": [
      "[]\n",
      "folder exist: CD3-low-TCRd-low-8000-b-TCCTGAGC-TCTACTCT_S4_L001_R1_001.fastq.gz\n",
      "sbatch --account=mmdavis --partition=batch --export=wDir=/labs/mmdavis/chen/Box/collaboration/atac-seq/full/output/CD3-low-TCRd-low-8000-b-TCCTGAGC-TCTACTCT_S4,input_file1=/labs/mmdavis/chen/Box/collaboration/atac-seq/full/CD3-low-TCRd-low-8000-b-TCCTGAGC-TCTACTCT_S4_L001_R1_001.fastq.gz,input_file2=/labs/mmdavis/chen/Box/collaboration/atac-seq/full/CD3-low-TCRd-low-8000-b-TCCTGAGC-TCTACTCT_S4_L001_R2_001.fastq.gz --chdir=/labs/mmdavis/chen/Box/collaboration/atac-seq/full sctATAC/bulk_ATAC/job_atac2.sh\n",
      "Submitted batch job 9155340\n",
      "folder exist: CD3-low-TCRd-low-6000-CTCTCTAC-TCTACTCT_S7_L001_R1_001.fastq.gz\n",
      "sbatch --account=mmdavis --partition=batch --export=wDir=/labs/mmdavis/chen/Box/collaboration/atac-seq/full/output/CD3-low-TCRd-low-6000-CTCTCTAC-TCTACTCT_S7,input_file1=/labs/mmdavis/chen/Box/collaboration/atac-seq/full/CD3-low-TCRd-low-6000-CTCTCTAC-TCTACTCT_S7_L001_R1_001.fastq.gz,input_file2=/labs/mmdavis/chen/Box/collaboration/atac-seq/full/CD3-low-TCRd-low-6000-CTCTCTAC-TCTACTCT_S7_L001_R2_001.fastq.gz --chdir=/labs/mmdavis/chen/Box/collaboration/atac-seq/full sctATAC/bulk_ATAC/job_atac2.sh\n",
      "Submitted batch job 9155341\n",
      "folder exist: CD3-low-TCRd-low-10000-a-AGGCAGAA-TCTACTCT_S3_L001_R1_001.fastq.gz\n",
      "sbatch --account=mmdavis --partition=batch --export=wDir=/labs/mmdavis/chen/Box/collaboration/atac-seq/full/output/CD3-low-TCRd-low-10000-a-AGGCAGAA-TCTACTCT_S3,input_file1=/labs/mmdavis/chen/Box/collaboration/atac-seq/full/CD3-low-TCRd-low-10000-a-AGGCAGAA-TCTACTCT_S3_L001_R1_001.fastq.gz,input_file2=/labs/mmdavis/chen/Box/collaboration/atac-seq/full/CD3-low-TCRd-low-10000-a-AGGCAGAA-TCTACTCT_S3_L001_R2_001.fastq.gz --chdir=/labs/mmdavis/chen/Box/collaboration/atac-seq/full sctATAC/bulk_ATAC/job_atac2.sh\n",
      "Submitted batch job 9155342\n",
      "folder exist: CD3-hi-TCRd-Hi-8000-b-TAGGCATG-TCTACTCT_S6_L001_R1_001.fastq.gz\n",
      "sbatch --account=mmdavis --partition=batch --export=wDir=/labs/mmdavis/chen/Box/collaboration/atac-seq/full/output/CD3-hi-TCRd-Hi-8000-b-TAGGCATG-TCTACTCT_S6,input_file1=/labs/mmdavis/chen/Box/collaboration/atac-seq/full/CD3-hi-TCRd-Hi-8000-b-TAGGCATG-TCTACTCT_S6_L001_R1_001.fastq.gz,input_file2=/labs/mmdavis/chen/Box/collaboration/atac-seq/full/CD3-hi-TCRd-Hi-8000-b-TAGGCATG-TCTACTCT_S6_L001_R2_001.fastq.gz --chdir=/labs/mmdavis/chen/Box/collaboration/atac-seq/full sctATAC/bulk_ATAC/job_atac2.sh\n",
      "Submitted batch job 9155343\n",
      "folder exist: CD3-hi-TCRd-Hi-8000-a-GGACTCCT-TCTACTCT_S5_L001_R1_001.fastq.gz\n",
      "sbatch --account=mmdavis --partition=batch --export=wDir=/labs/mmdavis/chen/Box/collaboration/atac-seq/full/output/CD3-hi-TCRd-Hi-8000-a-GGACTCCT-TCTACTCT_S5,input_file1=/labs/mmdavis/chen/Box/collaboration/atac-seq/full/CD3-hi-TCRd-Hi-8000-a-GGACTCCT-TCTACTCT_S5_L001_R1_001.fastq.gz,input_file2=/labs/mmdavis/chen/Box/collaboration/atac-seq/full/CD3-hi-TCRd-Hi-8000-a-GGACTCCT-TCTACTCT_S5_L001_R2_001.fastq.gz --chdir=/labs/mmdavis/chen/Box/collaboration/atac-seq/full sctATAC/bulk_ATAC/job_atac2.sh\n",
      "Submitted batch job 9155344\n",
      "folder exist: CD3-hi-TCRd-Hi-10000-b-CGTACTAG-TCTACTCT_S2_L001_R1_001.fastq.gz\n",
      "sbatch --account=mmdavis --partition=batch --export=wDir=/labs/mmdavis/chen/Box/collaboration/atac-seq/full/output/CD3-hi-TCRd-Hi-10000-b-CGTACTAG-TCTACTCT_S2,input_file1=/labs/mmdavis/chen/Box/collaboration/atac-seq/full/CD3-hi-TCRd-Hi-10000-b-CGTACTAG-TCTACTCT_S2_L001_R1_001.fastq.gz,input_file2=/labs/mmdavis/chen/Box/collaboration/atac-seq/full/CD3-hi-TCRd-Hi-10000-b-CGTACTAG-TCTACTCT_S2_L001_R2_001.fastq.gz --chdir=/labs/mmdavis/chen/Box/collaboration/atac-seq/full sctATAC/bulk_ATAC/job_atac2.sh\n",
      "Submitted batch job 9155345\n",
      "folder exist: CD3-hi-TCRd-Hi-10000-a-TAAGGCGA-TCTACTCT_S1_L001_R1_001.fastq.gz\n",
      "sbatch --account=mmdavis --partition=batch --export=wDir=/labs/mmdavis/chen/Box/collaboration/atac-seq/full/output/CD3-hi-TCRd-Hi-10000-a-TAAGGCGA-TCTACTCT_S1,input_file1=/labs/mmdavis/chen/Box/collaboration/atac-seq/full/CD3-hi-TCRd-Hi-10000-a-TAAGGCGA-TCTACTCT_S1_L001_R1_001.fastq.gz,input_file2=/labs/mmdavis/chen/Box/collaboration/atac-seq/full/CD3-hi-TCRd-Hi-10000-a-TAAGGCGA-TCTACTCT_S1_L001_R2_001.fastq.gz --chdir=/labs/mmdavis/chen/Box/collaboration/atac-seq/full sctATAC/bulk_ATAC/job_atac2.sh\n",
      "Submitted batch job 9155346\n",
      "folder exist: Bcells-QFTPositive-50000-NP40-Tween20-GGACTCCT-ATAGAGAG_S8_L001_R1_001.fastq.gz\n",
      "sbatch --account=mmdavis --partition=batch --export=wDir=/labs/mmdavis/chen/Box/collaboration/atac-seq/full/output/Bcells-QFTPositive-50000-NP40-Tween20-GGACTCCT-ATAGAGAG_S8,input_file1=/labs/mmdavis/chen/Box/collaboration/atac-seq/full/Bcells-QFTPositive-50000-NP40-Tween20-GGACTCCT-ATAGAGAG_S8_L001_R1_001.fastq.gz,input_file2=/labs/mmdavis/chen/Box/collaboration/atac-seq/full/Bcells-QFTPositive-50000-NP40-Tween20-GGACTCCT-ATAGAGAG_S8_L001_R2_001.fastq.gz --chdir=/labs/mmdavis/chen/Box/collaboration/atac-seq/full sctATAC/bulk_ATAC/job_atac2.sh\n",
      "Submitted batch job 9155347\n",
      "folder exist: Bcells-QFTNegative-50000-NP40-Tween20-TAGGCATG-ATAGAGAG_S9_L001_R1_001.fastq.gz\n",
      "sbatch --account=mmdavis --partition=batch --export=wDir=/labs/mmdavis/chen/Box/collaboration/atac-seq/full/output/Bcells-QFTNegative-50000-NP40-Tween20-TAGGCATG-ATAGAGAG_S9,input_file1=/labs/mmdavis/chen/Box/collaboration/atac-seq/full/Bcells-QFTNegative-50000-NP40-Tween20-TAGGCATG-ATAGAGAG_S9_L001_R1_001.fastq.gz,input_file2=/labs/mmdavis/chen/Box/collaboration/atac-seq/full/Bcells-QFTNegative-50000-NP40-Tween20-TAGGCATG-ATAGAGAG_S9_L001_R2_001.fastq.gz --chdir=/labs/mmdavis/chen/Box/collaboration/atac-seq/full sctATAC/bulk_ATAC/job_atac2.sh\n",
      "Submitted batch job 9155348\n"
     ]
    }
   ],
   "source": [
    "!python sctATAC/bulk_ATAC/master_atac.py \\\n",
    "-f '/labs/mmdavis/chen/Box/collaboration/atac-seq/full' \\\n",
    "-j sctATAC/bulk_ATAC/job_atac2.sh"
   ]
  },
  {
   "cell_type": "code",
   "execution_count": 17,
   "metadata": {},
   "outputs": [],
   "source": [
    "!scancel 9154611\n",
    "!scancel 9154612"
   ]
  },
  {
   "cell_type": "code",
   "execution_count": 3,
   "metadata": {},
   "outputs": [],
   "source": [
    "wDir='/labs/mmdavis/chen/Box/collaboration/atac-seq/full'"
   ]
  },
  {
   "cell_type": "code",
   "execution_count": 9,
   "metadata": {},
   "outputs": [
    {
     "name": "stdout",
     "output_type": "stream",
     "text": [
      "This is cutadapt 1.9.dev1 with Python 2.7.6\r\n",
      "Command line parameters: -a CTGTCTCTTATACACATCT -A CTGTCTCTTATACACATCT -q 20,20 -m 36 -o /labs/mmdavis/chen/Box/collaboration/atac-seq/full/output/CD3-hi-TCRd-Hi-8000-b-TAGGCATG-TCTACTCT_S6/Input_R1_001.fq -p /labs/mmdavis/chen/Box/collaboration/atac-seq/full/output/CD3-hi-TCRd-Hi-8000-b-TAGGCATG-TCTACTCT_S6/Input_R2_001.fq /labs/mmdavis/chen/Box/collaboration/atac-seq/full/output/CD3-hi-TCRd-Hi-8000-b-TAGGCATG-TCTACTCT_S6/Input_R1_001.fastq /labs/mmdavis/chen/Box/collaboration/atac-seq/full/output/CD3-hi-TCRd-Hi-8000-b-TAGGCATG-TCTACTCT_S6/Input_R2_001.fastq\r\n",
      "Trimming 2 adapters with at most 10.0% errors in paired-end mode ...\r\n",
      "Finished in 662.60 s (25 us/read; 2.38 M reads/minute).\r\n",
      "\r\n",
      "=== Summary ===\r\n",
      "\r\n",
      "Total read pairs processed:         26,283,849\r\n",
      "  Read 1 with adapter:              11,619,162 (44.2%)\r\n",
      "  Read 2 with adapter:              11,505,194 (43.8%)\r\n"
     ]
    }
   ],
   "source": [
    "!head /labs/mmdavis/chen/Box/collaboration/atac-seq/full/slurm-9154611.out"
   ]
  },
  {
   "cell_type": "code",
   "execution_count": 2,
   "metadata": {},
   "outputs": [
    {
     "name": "stdout",
     "output_type": "stream",
     "text": [
      "['CD3-hi-TCRd-Hi-8000-a-GGACTCCT-TCTACTCT_S5_L001_R1_001.trim.fastq.gz', 'CD3-hi-TCRd-Hi-10000-b-CGTACTAG-TCTACTCT_S2_L001_R1_001.trim.fastq.gz', 'CD3-hi-TCRd-Hi-8000-b-TAGGCATG-TCTACTCT_S6_L001_R1_001.trim.fastq.gz', 'CD3-hi-TCRd-Hi-10000-a-TAAGGCGA-TCTACTCT_S1_L001_R1_001.trim.fastq.gz', 'CD3-hi-TCRd-Hi-8000-b-TAGGCATG-TCTACTCT_S6_L001_R1_001.fastq.gz', 'CD3-hi-TCRd-Hi-8000-a-GGACTCCT-TCTACTCT_S5_L001_R1_001.fastq.gz', 'CD3-hi-TCRd-Hi-10000-b-CGTACTAG-TCTACTCT_S2_L001_R1_001.fastq.gz', 'CD3-hi-TCRd-Hi-10000-a-TAAGGCGA-TCTACTCT_S1_L001_R1_001.fastq.gz']\n"
     ]
    }
   ],
   "source": [
    "gz_list=[\n",
    "     \"Bcells-QFTPositive-50000-NP40-Tween20-GGACTCCT-ATAGAGAG_S8_L001_R1_001.trim.fastq.gz\",\n",
    "     \"Bcells-QFTNegative-50000-NP40-Tween20-TAGGCATG-ATAGAGAG_S9_L001_R1_001.trim.fastq.gz\",\n",
    "     \"CD3-hi-TCRd-Hi-8000-a-GGACTCCT-TCTACTCT_S5_L001_R1_001.trim.fastq.gz\",\n",
    "     \"CD3-low-TCRd-low-8000-b-TCCTGAGC-TCTACTCT_S4_L001_R1_001.trim.fastq.gz\",\n",
    "     \"CD3-hi-TCRd-Hi-10000-b-CGTACTAG-TCTACTCT_S2_L001_R1_001.trim.fastq.gz\",\n",
    "     \"CD3-low-TCRd-low-6000-CTCTCTAC-TCTACTCT_S7_L001_R1_001.trim.fastq.gz\",\n",
    "     \"CD3-hi-TCRd-Hi-8000-b-TAGGCATG-TCTACTCT_S6_L001_R1_001.trim.fastq.gz\",\n",
    "     \"CD3-low-TCRd-low-10000-a-AGGCAGAA-TCTACTCT_S3_L001_R1_001.trim.fastq.gz\",\n",
    "     \"CD3-hi-TCRd-Hi-10000-a-TAAGGCGA-TCTACTCT_S1_L001_R1_001.trim.fastq.gz\",\n",
    "     \"CD3-low-TCRd-low-8000-b-TCCTGAGC-TCTACTCT_S4_L001_R1_001.fastq.gz\",\n",
    "     \"CD3-low-TCRd-low-6000-CTCTCTAC-TCTACTCT_S7_L001_R1_001.fastq.gz\",\n",
    "     \"CD3-low-TCRd-low-10000-a-AGGCAGAA-TCTACTCT_S3_L001_R1_001.fastq.gz\",\n",
    "     \"CD3-hi-TCRd-Hi-8000-b-TAGGCATG-TCTACTCT_S6_L001_R1_001.fastq.gz\",\n",
    "     \"CD3-hi-TCRd-Hi-8000-a-GGACTCCT-TCTACTCT_S5_L001_R1_001.fastq.gz\",\n",
    "     \"CD3-hi-TCRd-Hi-10000-b-CGTACTAG-TCTACTCT_S2_L001_R1_001.fastq.gz\",\n",
    "     \"CD3-hi-TCRd-Hi-10000-a-TAAGGCGA-TCTACTCT_S1_L001_R1_001.fastq.gz\",\n",
    "     \"Bcells-QFTPositive-50000-NP40-Tween20-GGACTCCT-ATAGAGAG_S8_L001_R1_001.fastq.gz\",\n",
    "     \"Bcells-QFTNegative-50000-NP40-Tween20-TAGGCATG-ATAGAGAG_S9_L001_R1_001.fastq.gz\",\n",
    " ]\n",
    " \n",
    "gz_list2=[i for i in gz_list if i.startswith('CD3-hi')]   \n",
    "print(gz_list2)"
   ]
  },
  {
   "cell_type": "markdown",
   "metadata": {},
   "source": [
    "## Check the content of wDirs"
   ]
  },
  {
   "cell_type": "code",
   "execution_count": 11,
   "metadata": {},
   "outputs": [
    {
     "data": {
      "text/plain": [
       "['bowtie2.sam',\n",
       " 'Input_R1_001.fq',\n",
       " 'Input_R2_001.fastq',\n",
       " 'macs2.out',\n",
       " 'Input_R2_001.fq',\n",
       " 'Input_R1_001.fastq']"
      ]
     },
     "execution_count": 11,
     "metadata": {},
     "output_type": "execute_result"
    }
   ],
   "source": [
    "import os\n",
    "\n",
    "os.listdir('/labs/mmdavis/chen/Box/collaboration/atac-seq/full/output/CD3-hi-TCRd-Hi-8000-b-TAGGCATG-TCTACTCT_S6')"
   ]
  },
  {
   "cell_type": "code",
   "execution_count": 25,
   "metadata": {},
   "outputs": [
    {
     "name": "stdout",
     "output_type": "stream",
     "text": [
      "total 31488738\r\n",
      "-rw-r--r-- 1 lchen12 scgpm-informatics_mdavis  1369256214 May 10 13:26 bowtie2_Dmit_30.bam\r\n",
      "-rw-r--r-- 1 lchen12 scgpm-informatics_mdavis 10723424130 May 10 13:19 bowtie2_Dmit_30.sam\r\n",
      "-rw-r--r-- 1 lchen12 scgpm-informatics_mdavis 13399892742 May 10 13:17 bowtie2.sam\r\n",
      "-rw-r--r-- 1 lchen12 scgpm-informatics_mdavis        3074 May 10 13:36 dup.txt\r\n",
      "-rw-r--r-- 1 lchen12 scgpm-informatics_mdavis   709356475 May 10 13:36 final.bam\r\n",
      "-rw-r--r-- 1 lchen12 scgpm-informatics_mdavis     3451184 May 10 13:36 final.bam.bai\r\n",
      "-rw-r--r-- 1 lchen12 scgpm-informatics_mdavis           0 May 10 13:43 final.bw\r\n",
      "-rw-r--r-- 1 lchen12 scgpm-informatics_mdavis   204089583 May 10 13:43 final_control_lambda.bdg\r\n",
      "-rw-r--r-- 1 lchen12 scgpm-informatics_mdavis     3467995 May 10 13:43 final_peaks.narrowPeak\r\n",
      "-rw-r--r-- 1 lchen12 scgpm-informatics_mdavis     3906541 May 10 13:43 final_peaks.xls\r\n",
      "-rw-r--r-- 1 lchen12 scgpm-informatics_mdavis     2248542 May 10 13:43 final_summits.bed\r\n",
      "-rw-r--r-- 1 lchen12 scgpm-informatics_mdavis   363860117 May 10 13:43 final_treat_pileup.bdg\r\n",
      "-rw-r--r-- 1 lchen12 scgpm-informatics_mdavis        3484 May 10 13:43 macs2.out\r\n"
     ]
    }
   ],
   "source": [
    "! ls -l '/labs/mmdavis/chen/Box/collaboration/atac-seq/full/output/CD3-hi-TCRd-Hi-8000-b-TAGGCATG-TCTACTCT_S6'"
   ]
  },
  {
   "cell_type": "markdown",
   "metadata": {},
   "source": [
    "## Run sctATAC package"
   ]
  },
  {
   "cell_type": "code",
   "execution_count": 30,
   "metadata": {},
   "outputs": [
    {
     "name": "stdout",
     "output_type": "stream",
     "text": [
      "Could not find conda environment: bioinfo\r\n",
      "You can list all discoverable environments with `conda info --envs`.\r\n",
      "\r\n"
     ]
    }
   ],
   "source": [
    "! source activate bioinfo"
   ]
  },
  {
   "cell_type": "code",
   "execution_count": null,
   "metadata": {},
   "outputs": [],
   "source": [
    "! python scT/Trackplot.py make_trackfiles \\\n",
    "--infile  \\\n",
    "$hbv_folder/Health9PBMC1_peaks.narrowPeak \\\n",
    "$hbv_folder/LZCPBMC1_peaks.narrowPeak \\\n",
    "$hbv_folder/LZCPL1_peaks.narrowPeak \\\n",
    "$hbv_folder/LZCTL1_peaks.narrowPeak \\\n",
    "$gene_bed_file \\\n",
    "--outfile $output_folder/example_track.ini\n",
    "}"
   ]
  },
  {
   "cell_type": "markdown",
   "metadata": {},
   "source": [
    "## Visualization"
   ]
  },
  {
   "cell_type": "code",
   "execution_count": 1,
   "metadata": {},
   "outputs": [
    {
     "name": "stdout",
     "output_type": "stream",
     "text": [
      "[1] \"/home/lchen12/sctATAC/input/\"\n",
      "[1] \"/home/lchen12/sctATAC/input/Chien_atac.csv\"\n",
      "[1] \"/home/lchen12/sctATAC/output/Chien/\"\n",
      "[1] \"3\"\n",
      "Loading required package: GenomicRanges\n",
      "Loading required package: stats4\n",
      "Loading required package: BiocGenerics\n",
      "Loading required package: parallel\n",
      "\n",
      "Attaching package: ‘BiocGenerics’\n",
      "\n",
      "The following objects are masked from ‘package:parallel’:\n",
      "\n",
      "    clusterApply, clusterApplyLB, clusterCall, clusterEvalQ,\n",
      "    clusterExport, clusterMap, parApply, parCapply, parLapply,\n",
      "    parLapplyLB, parRapply, parSapply, parSapplyLB\n",
      "\n",
      "The following objects are masked from ‘package:stats’:\n",
      "\n",
      "    IQR, mad, sd, var, xtabs\n",
      "\n",
      "The following objects are masked from ‘package:base’:\n",
      "\n",
      "    anyDuplicated, append, as.data.frame, basename, cbind, colMeans,\n",
      "    colnames, colSums, dirname, do.call, duplicated, eval, evalq,\n",
      "    Filter, Find, get, grep, grepl, intersect, is.unsorted, lapply,\n",
      "    lengths, Map, mapply, match, mget, order, paste, pmax, pmax.int,\n",
      "    pmin, pmin.int, Position, rank, rbind, Reduce, rowMeans, rownames,\n",
      "    rowSums, sapply, setdiff, sort, table, tapply, union, unique,\n",
      "    unsplit, which, which.max, which.min\n",
      "\n",
      "Loading required package: S4Vectors\n",
      "\n",
      "Attaching package: ‘S4Vectors’\n",
      "\n",
      "The following object is masked from ‘package:base’:\n",
      "\n",
      "    expand.grid\n",
      "\n",
      "Loading required package: IRanges\n",
      "Loading required package: GenomeInfoDb\n",
      "Loading required package: SummarizedExperiment\n",
      "Loading required package: Biobase\n",
      "Welcome to Bioconductor\n",
      "\n",
      "    Vignettes contain introductory material; view with\n",
      "    'browseVignettes()'. To cite Bioconductor, see\n",
      "    'citation(\"Biobase\")', and for packages 'citation(\"pkgname\")'.\n",
      "\n",
      "Loading required package: DelayedArray\n",
      "Loading required package: matrixStats\n",
      "\n",
      "Attaching package: ‘matrixStats’\n",
      "\n",
      "The following objects are masked from ‘package:Biobase’:\n",
      "\n",
      "    anyMissing, rowMedians\n",
      "\n",
      "Loading required package: BiocParallel\n",
      "\n",
      "Attaching package: ‘DelayedArray’\n",
      "\n",
      "The following objects are masked from ‘package:matrixStats’:\n",
      "\n",
      "    colMaxs, colMins, colRanges, rowMaxs, rowMins, rowRanges\n",
      "\n",
      "The following objects are masked from ‘package:base’:\n",
      "\n",
      "    aperm, apply\n",
      "\n",
      "\n",
      "Bcells-QFTNegative-50000-NP40-Tween20-TAGGCATG-ATAGAGAG_S9 Bcells-QFTNegative-50000-NP40-Tween20-TAGGCATG-ATAGAGAG_S9 Bcells health  1 narrow\n",
      "Bcells-QFTPositive-50000-NP40-Tween20-GGACTCCT-ATAGAGAG_S8 Bcells-QFTPositive-50000-NP40-Tween20-GGACTCCT-ATAGAGAG_S8 Bcells health  2 narrow\n",
      "CD3-hi-TCRd-Hi-10000-a-TAAGGCGA-TCTACTCT_S1 CD3-hi-TCRd-Hi-10000-a-TAAGGCGA-TCTACTCT_S1 CD3-hi health  1 narrow\n",
      "CD3-hi-TCRd-Hi-10000-b-CGTACTAG-TCTACTCT_S2 CD3-hi-TCRd-Hi-10000-b-CGTACTAG-TCTACTCT_S2 CD3-hi health  2 narrow\n",
      "CD3-hi-TCRd-Hi-8000-a-GGACTCCT-TCTACTCT_S5 CD3-hi-TCRd-Hi-8000-a-GGACTCCT-TCTACTCT_S5 CD3-hi health  3 narrow\n",
      "CD3-hi-TCRd-Hi-8000-b-TAGGCATG-TCTACTCT_S6 CD3-hi-TCRd-Hi-8000-b-TAGGCATG-TCTACTCT_S6 CD3-hi health  4 narrow\n",
      "CD3-low-TCRd-low-10000-a-AGGCAGAA-TCTACTCT_S3 CD3-low-TCRd-low-10000-a-AGGCAGAA-TCTACTCT_S3 CD3-low health  1 narrow\n",
      "CD3-low-TCRd-low-6000-CTCTCTAC-TCTACTCT_S7 CD3-low-TCRd-low-6000-CTCTCTAC-TCTACTCT_S7 CD3-low health  2 narrow\n",
      "CD3-low-TCRd-low-8000-b-TCCTGAGC-TCTACTCT_S4 CD3-low-TCRd-low-8000-b-TCCTGAGC-TCTACTCT_S4 CD3-low health  3 narrow\n",
      "Warning message:\n",
      "fragmentSize ignored when bUseSummarizeOverlaps is TRUE in dba.count \n",
      "converting counts to integer mode\n",
      "converting counts to integer mode\n",
      "converting counts to integer mode\n",
      "  Note: levels of factors in the design contain characters other than\n",
      "  letters, numbers, '_' and '.'. It is recommended (but not required) to use\n",
      "  only letters, numbers, and delimiters '_' or '.', as these are safe characters\n",
      "  for column names in R. [This is a message, not an warning or error]\n",
      "  Note: levels of factors in the design contain characters other than\n",
      "  letters, numbers, '_' and '.'. It is recommended (but not required) to use\n",
      "  only letters, numbers, and delimiters '_' or '.', as these are safe characters\n",
      "  for column names in R. [This is a message, not an warning or error]\n",
      "  Note: levels of factors in the design contain characters other than\n",
      "  letters, numbers, '_' and '.'. It is recommended (but not required) to use\n",
      "  only letters, numbers, and delimiters '_' or '.', as these are safe characters\n",
      "  for column names in R. [This is a message, not an warning or error]\n",
      "  Note: levels of factors in the design contain characters other than\n",
      "  letters, numbers, '_' and '.'. It is recommended (but not required) to use\n",
      "  only letters, numbers, and delimiters '_' or '.', as these are safe characters\n",
      "  for column names in R. [This is a message, not an warning or error]\n",
      "gene-wise dispersion estimates\n",
      "  Note: levels of factors in the design contain characters other than\n",
      "  letters, numbers, '_' and '.'. It is recommended (but not required) to use\n",
      "  only letters, numbers, and delimiters '_' or '.', as these are safe characters\n",
      "  for column names in R. [This is a message, not an warning or error]\n",
      "gene-wise dispersion estimates\n",
      "  Note: levels of factors in the design contain characters other than\n",
      "  letters, numbers, '_' and '.'. It is recommended (but not required) to use\n",
      "  only letters, numbers, and delimiters '_' or '.', as these are safe characters\n",
      "  for column names in R. [This is a message, not an warning or error]\n",
      "gene-wise dispersion estimates\n",
      "mean-dispersion relationship\n",
      "mean-dispersion relationship\n",
      "  Note: levels of factors in the design contain characters other than\n",
      "  letters, numbers, '_' and '.'. It is recommended (but not required) to use\n",
      "  only letters, numbers, and delimiters '_' or '.', as these are safe characters\n",
      "  for column names in R. [This is a message, not an warning or error]\n",
      "final dispersion estimates\n",
      "  Note: levels of factors in the design contain characters other than\n",
      "  letters, numbers, '_' and '.'. It is recommended (but not required) to use\n",
      "  only letters, numbers, and delimiters '_' or '.', as these are safe characters\n",
      "  for column names in R. [This is a message, not an warning or error]\n",
      "final dispersion estimates\n",
      "  Note: levels of factors in the design contain characters other than\n",
      "  letters, numbers, '_' and '.'. It is recommended (but not required) to use\n",
      "  only letters, numbers, and delimiters '_' or '.', as these are safe characters\n",
      "  for column names in R. [This is a message, not an warning or error]\n",
      "mean-dispersion relationship\n",
      "  Note: levels of factors in the design contain characters other than\n",
      "  letters, numbers, '_' and '.'. It is recommended (but not required) to use\n",
      "  only letters, numbers, and delimiters '_' or '.', as these are safe characters\n",
      "  for column names in R. [This is a message, not an warning or error]\n",
      "  Note: levels of factors in the design contain characters other than\n",
      "  letters, numbers, '_' and '.'. It is recommended (but not required) to use\n",
      "  only letters, numbers, and delimiters '_' or '.', as these are safe characters\n",
      "  for column names in R. [This is a message, not an warning or error]\n",
      "final dispersion estimates\n",
      "  Note: levels of factors in the design contain characters other than\n",
      "  letters, numbers, '_' and '.'. It is recommended (but not required) to use\n",
      "  only letters, numbers, and delimiters '_' or '.', as these are safe characters\n",
      "  for column names in R. [This is a message, not an warning or error]\n"
     ]
    }
   ],
   "source": [
    "# original place '~/data/ATAC-seq1/bulk_cell'\n",
    "! Rscript /home/lchen12/sctATAC/rscripts/generate_contrast_file.R \\\n",
    "/home/lchen12/sctATAC/input/ \\\n",
    "/home/lchen12/sctATAC/input/Chien_atac.csv \\\n",
    "/home/lchen12/sctATAC/output/Chien/ 3\n",
    "#args[1] wDir\n",
    "#args[2] metadata file                     \n",
    "#args[3] output folder                      \n",
    "#args[4] number of contrasts i.e. 6 contrasts for 8 samples"
   ]
  },
  {
   "cell_type": "code",
   "execution_count": 12,
   "metadata": {},
   "outputs": [
    {
     "name": "stdout",
     "output_type": "stream",
     "text": [
      "/home/lchen12/sctATAC/output/Chien/HBV_bulk_FDR_constrast_Bcells_CD3-hi.csv\n",
      "/home/lchen12/sctATAC/output/Chien/HBV_bulk_FDR_constrast_Bcells_CD3-low.csv\n",
      "/home/lchen12/sctATAC/output/Chien/HBV_bulk_FDR_constrast_CD3-hi_CD3-low.csv\n"
     ]
    },
    {
     "name": "stderr",
     "output_type": "stream",
     "text": [
      "\n",
      "\tPeak file = /home/lchen12/sctATAC/output/Chien/HBV_bulk_FDR_constrast_Bcells_CD3-hi.csv\n",
      "\tGenome = hg19\n",
      "\tOrganism = human\n",
      "\tPeak/BED file conversion summary:\n",
      "\t\tBED/Header formatted lines: 32208\n",
      "\t\tpeakfile formatted lines: 0\n",
      "\t\tDuplicated Peak IDs: 32207\n",
      "\n",
      "\tPeak File Statistics:\n",
      "\t\tTotal Peaks: 32208\n",
      "\t\tRedundant Peak IDs: 0\n",
      "\t\tPeaks lacking information: 0 (need at least 5 columns per peak)\n",
      "\t\tPeaks with misformatted coordinates: 0 (should be integer)\n",
      "\t\tPeaks with misformatted strand: 0 (should be either +/- or 0/1)\n",
      "\n",
      "\tPeak file looks good!\n",
      "\n",
      "\tReading Positions...\n",
      "\t-----------------------\n",
      "\tFinding Closest TSS...\n",
      "\tAnnotating:..................................\n",
      "\t\tAnnotation\tNumber of peaks\tTotal size (bp)\tLog2 Enrichment\n",
      "\t\t3UTR\t286.0\t22935009\t0.262\n",
      "\t\tmiRNA\t5.0\t94147\t2.352\n",
      "\t\tncRNA\t191.0\t6745079\t1.445\n",
      "\t\tTTS\t449.0\t31423765\t0.458\n",
      "\t\tpseudo\t37.0\t1996838\t0.833\n",
      "\t\tExon\t1106.0\t36408156\t1.546\n",
      "\t\tIntron\t14713.0\t1253937899\t0.174\n",
      "\t\tIntergenic\t10238.0\t1703802989\t-0.792\n",
      "\t\tPromoter\t4529.0\t35068283\t3.634\n",
      "\t\t5UTR\t643.0\t2776667\t4.476\n",
      "\t\tsnoRNA\t0.0\t262\t-14.975\n",
      "\t\tsnRNA\t0.0\t11\t-14.975\n",
      "\t\trRNA\t0.0\t10456\t-14.975\n",
      "\tNOTE: If this part takes more than 2 minutes, there is a good chance\n",
      "\t\tyour machine ran out of memory: consider hitting ctrl+C and rerunning\n",
      "\t\tthe command with \"-noann\"\n",
      "\tTo capture annotation stats in a file, use \"-annStats <filename>\" next time\n",
      "\tAnnotating:.........................................\n",
      "\t\tAnnotation\tNumber of peaks\tTotal size (bp)\tLog2 Enrichment\n",
      "\t\t3UTR\t286.0\t22935009\t0.262\n",
      "\t\tOther\t0.0\t3956481\t-14.975\n",
      "\t\tUnknown?\t0.0\t18108\t-14.975\n",
      "\t\tRNA\t2.0\t114608\t0.747\n",
      "\t\tmiRNA\t5.0\t94147\t2.353\n",
      "\t\tncRNA\t191.0\t6745079\t1.446\n",
      "\t\tTTS\t449.0\t31423765\t0.459\n",
      "\t\tLINE\t2548.0\t624032784\t-1.348\n",
      "\t\tLINE?\t0.0\t10448\t-14.975\n",
      "\t\tsrpRNA\t0.0\t254869\t-14.975\n",
      "\t\tSINE\t1530.0\t379811035\t-1.368\n",
      "\t\tRC\t7.0\t442420\t0.606\n",
      "\t\ttRNA\t2.0\t92016\t1.064\n",
      "\t\tDNA?\t2.0\t264683\t-0.460\n",
      "\t\tpseudo\t37.0\t1996838\t0.834\n",
      "\t\tDNA\t817.0\t95896651\t-0.287\n",
      "\t\tExon\t1105.0\t36408156\t1.546\n",
      "\t\tIntron\t9970.0\t661604827\t0.536\n",
      "\t\tIntergenic\t6440.0\t870442064\t-0.491\n",
      "\t\tPromoter\t4528.0\t35068283\t3.635\n",
      "\t\t5UTR\t643.0\t2776667\t4.477\n",
      "\t\tsnoRNA\t0.0\t262\t-14.975\n",
      "\t\tLTR?\t0.0\t21148\t-14.975\n",
      "\t\tscRNA\t0.0\t116507\t-14.975\n",
      "\t\tCpG-Island\t1243.0\t8804649\t3.763\n",
      "\t\tLow_complexity\t56.0\t15447557\t-1.520\n",
      "\t\tLTR\t2145.0\t259758042\t-0.332\n",
      "\t\tSimple_repeat\t113.0\t24870140\t-1.194\n",
      "\t\tsnRNA\t4.0\t319993\t0.266\n",
      "\t\tUnknown\t15.0\t1246108\t0.212\n",
      "\t\tSINE?\t0.0\t42926\t-14.975\n",
      "\t\tSatellite\t68.0\t13058255\t-0.997\n",
      "\t\trRNA\t2.0\t178500\t0.108\n",
      "\tCounting Tags in Peaks from each directory...\n",
      "\tOrganism: human\n",
      "\tLoading Gene Informaiton...\n",
      "\tOutputing Annotation File...\n",
      "\tDone annotating peaks file\n",
      "\n",
      "\n",
      "\tPeak file = /home/lchen12/sctATAC/output/Chien/HBV_bulk_FDR_constrast_Bcells_CD3-low.csv\n",
      "\tGenome = hg19\n",
      "\tOrganism = human\n",
      "\tPeak/BED file conversion summary:\n",
      "\t\tBED/Header formatted lines: 37698\n",
      "\t\tpeakfile formatted lines: 0\n",
      "\t\tDuplicated Peak IDs: 37697\n",
      "\n",
      "\tPeak File Statistics:\n",
      "\t\tTotal Peaks: 37698\n",
      "\t\tRedundant Peak IDs: 0\n",
      "\t\tPeaks lacking information: 0 (need at least 5 columns per peak)\n",
      "\t\tPeaks with misformatted coordinates: 0 (should be integer)\n",
      "\t\tPeaks with misformatted strand: 0 (should be either +/- or 0/1)\n",
      "\n",
      "\tPeak file looks good!\n",
      "\n",
      "\tReading Positions...\n",
      "\t-----------------------\n",
      "\tFinding Closest TSS...\n",
      "\tAnnotating:..................................\n",
      "\t\tAnnotation\tNumber of peaks\tTotal size (bp)\tLog2 Enrichment\n",
      "\t\t3UTR\t341.0\t22938403\t0.288\n",
      "\t\tmiRNA\t4.0\t94147\t1.803\n",
      "\t\tncRNA\t239.0\t6745079\t1.541\n",
      "\t\tTTS\t556.0\t31422664\t0.539\n",
      "\t\tpseudo\t43.0\t1991789\t0.826\n",
      "\t\tExon\t1523.0\t36412780\t1.780\n",
      "\t\tIntron\t15709.0\t1253890655\t0.041\n",
      "\t\tIntergenic\t11053.0\t1703783573\t-0.909\n",
      "\t\tPromoter\t7250.0\t35068283\t4.085\n",
      "\t\t5UTR\t974.0\t2776667\t4.848\n",
      "\t\tsnoRNA\t0.0\t262\t-15.202\n",
      "\t\tsnRNA\t0.0\t11\t-15.202\n",
      "\t\trRNA\t0.0\t10456\t-15.202\n",
      "\tNOTE: If this part takes more than 2 minutes, there is a good chance\n",
      "\t\tyour machine ran out of memory: consider hitting ctrl+C and rerunning\n",
      "\t\tthe command with \"-noann\"\n",
      "\tTo capture annotation stats in a file, use \"-annStats <filename>\" next time\n",
      "\tAnnotating:.......................................\n",
      "\t\tAnnotation\tNumber of peaks\tTotal size (bp)\tLog2 Enrichment\n",
      "\t\t3UTR\t341.0\t22938403\t0.289\n",
      "\t\tOther\t0.0\t3960657\t-15.202\n",
      "\t\tUnknown?\t0.0\t18108\t-15.202\n",
      "\t\tRNA\t2.0\t114608\t0.520\n",
      "\t\tmiRNA\t4.0\t94147\t1.804\n",
      "\t\tncRNA\t239.0\t6745079\t1.542\n",
      "\t\tTTS\t556.0\t31422664\t0.540\n",
      "\t\tLINE\t2566.0\t623979541\t-1.565\n",
      "\t\tLINE?\t0.0\t10448\t-15.202\n",
      "\t\tsrpRNA\t0.0\t254801\t-15.202\n",
      "\t\tSINE\t1438.0\t379827453\t-1.684\n",
      "\t\tRC\t8.0\t442420\t0.571\n",
      "\t\ttRNA\t2.0\t92016\t0.837\n",
      "\t\tDNA?\t1.0\t264683\t-1.687\n",
      "\t\tpseudo\t43.0\t1991789\t0.827\n",
      "\t\tDNA\t815.0\t95892848\t-0.518\n",
      "\t\tExon\t1522.0\t36412780\t1.780\n",
      "\t\tIntron\t10645.0\t661589349\t0.403\n",
      "\t\tIntergenic\t6920.0\t870387034\t-0.614\n",
      "\t\tPromoter\t7246.0\t35068283\t4.086\n",
      "\t\t5UTR\t973.0\t2776667\t4.848\n",
      "\t\tsnoRNA\t0.0\t262\t-15.202\n",
      "\t\tLTR?\t0.0\t21148\t-15.202\n",
      "\t\tscRNA\t0.0\t116507\t-15.202\n",
      "\t\tCpG-Island\t1904.0\t8803577\t4.152\n",
      "\t\tLow_complexity\t77.0\t15446864\t-1.288\n",
      "\t\tLTR\t2203.0\t259735668\t-0.521\n",
      "\t\tSimple_repeat\t119.0\t24871333\t-1.347\n",
      "\t\tsnRNA\t4.0\t319984\t0.039\n",
      "\t\tUnknown\t14.0\t1246108\t-0.115\n",
      "\t\tSINE?\t0.0\t42926\t-15.202\n",
      "\t\tSatellite\t54.0\t12919494\t-1.542\n",
      "\t\trRNA\t2.0\t178500\t-0.119\n",
      "\tCounting Tags in Peaks from each directory...\n",
      "\tOrganism: human\n",
      "\tLoading Gene Informaiton...\n",
      "\tOutputing Annotation File...\n",
      "\tDone annotating peaks file\n",
      "\n",
      "\n",
      "\tPeak file = /home/lchen12/sctATAC/output/Chien/HBV_bulk_FDR_constrast_CD3-hi_CD3-low.csv\n",
      "\tGenome = hg19\n",
      "\tOrganism = human\n",
      "\tPeak/BED file conversion summary:\n",
      "\t\tBED/Header formatted lines: 4659\n",
      "\t\tpeakfile formatted lines: 0\n",
      "\t\tDuplicated Peak IDs: 4658\n",
      "\n",
      "\tPeak File Statistics:\n",
      "\t\tTotal Peaks: 4659\n",
      "\t\tRedundant Peak IDs: 0\n",
      "\t\tPeaks lacking information: 0 (need at least 5 columns per peak)\n",
      "\t\tPeaks with misformatted coordinates: 0 (should be integer)\n",
      "\t\tPeaks with misformatted strand: 0 (should be either +/- or 0/1)\n",
      "\n",
      "\tPeak file looks good!\n",
      "\n",
      "\tReading Positions...\n",
      "\t-----------------------\n",
      "\tFinding Closest TSS...\n",
      "\tAnnotating:........................\n",
      "\t\tAnnotation\tNumber of peaks\tTotal size (bp)\tLog2 Enrichment\n",
      "\t\t3UTR\t45.0\t22933157\t0.382\n",
      "\t\tmiRNA\t0.0\t94147\t-12.186\n",
      "\t\tncRNA\t25.0\t6737924\t1.301\n",
      "\t\tTTS\t49.0\t31403234\t0.051\n",
      "\t\tpseudo\t4.0\t1972128\t0.430\n",
      "\t\tExon\t117.0\t36405979\t1.094\n",
      "\t\tIntron\t2385.0\t1253342755\t0.338\n",
      "\t\tIntergenic\t1740.0\t1703078275\t-0.560\n",
      "\t\tPromoter\t257.0\t35046489\t2.284\n",
      "\t\t5UTR\t37.0\t2776607\t3.145\n",
      "\t\tsnoRNA\t0.0\t262\t-12.186\n",
      "\t\tsnRNA\t0.0\t11\t-12.186\n",
      "\tNOTE: If this part takes more than 2 minutes, there is a good chance\n",
      "\t\tyour machine ran out of memory: consider hitting ctrl+C and rerunning\n",
      "\t\tthe command with \"-noann\"\n",
      "\tTo capture annotation stats in a file, use \"-annStats <filename>\" next time\n",
      "\tAnnotating:........................\n",
      "\t\tAnnotation\tNumber of peaks\tTotal size (bp)\tLog2 Enrichment\n",
      "\t\t3UTR\t45.0\t22933157\t0.383\n",
      "\t\tOther\t0.0\t3951112\t-12.186\n",
      "\t\tUnknown?\t0.0\t18108\t-12.186\n",
      "\t\tRNA\t0.0\t114608\t-12.186\n",
      "\t\tmiRNA\t0.0\t94147\t-12.186\n",
      "\t\tncRNA\t25.0\t6737924\t1.302\n",
      "\t\tTTS\t49.0\t31403234\t0.052\n",
      "\t\tLINE\t480.0\t623457887\t-0.967\n",
      "\t\tLINE?\t0.0\t10448\t-12.186\n",
      "\t\tsrpRNA\t0.0\t254163\t-12.186\n",
      "\t\tSINE\t224.0\t379566745\t-1.351\n",
      "\t\tRC\t1.0\t442420\t0.587\n",
      "\t\ttRNA\t0.0\t91705\t-12.186\n",
      "\t\tDNA?\t1.0\t264683\t1.328\n",
      "\t\tpseudo\t4.0\t1972128\t0.430\n",
      "\t\tDNA\t123.0\t95831541\t-0.230\n",
      "\t\tExon\t117.0\t36405979\t1.094\n",
      "\t\tIntron\t1732.0\t661331951\t0.799\n",
      "\t\tIntergenic\t1137.0\t869726862\t-0.203\n",
      "\t\tPromoter\t257.0\t35046489\t2.284\n",
      "\t\t5UTR\t37.0\t2776607\t3.146\n",
      "\t\tsnoRNA\t0.0\t262\t-12.186\n",
      "\t\tLTR?\t0.0\t21148\t-12.186\n",
      "\t\tscRNA\t0.0\t116307\t-12.186\n",
      "\t\tCpG-Island\t76.0\t8777013\t2.524\n",
      "\t\tLow_complexity\t6.0\t15431649\t-1.953\n",
      "\t\tLTR\t332.0\t259517350\t-0.235\n",
      "\t\tSimple_repeat\t11.0\t24848212\t-1.766\n",
      "\t\tsnRNA\t0.0\t319530\t-12.186\n",
      "\t\tUnknown\t2.0\t1245915\t0.093\n",
      "\t\tSINE?\t0.0\t42807\t-12.186\n",
      "\t\tSatellite\t0.0\t12340450\t-12.186\n",
      "\t\trRNA\t0.0\t162913\t-12.186\n",
      "\tCounting Tags in Peaks from each directory...\n",
      "\tOrganism: human\n",
      "\tLoading Gene Informaiton...\n",
      "\tOutputing Annotation File...\n",
      "\tDone annotating peaks file\n",
      "\n"
     ]
    }
   ],
   "source": [
    "%%bash\n",
    "\n",
    "output_folder='/home/lchen12/sctATAC/output/Chien'\n",
    "\n",
    "for file in $output_folder/*.csv; do\n",
    "annotatePeaks.pl $file hg19 > ${file}.annotate\n",
    "echo $file\n",
    "done"
   ]
  },
  {
   "cell_type": "code",
   "execution_count": 13,
   "metadata": {},
   "outputs": [],
   "source": [
    "%%bash\n",
    "\n",
    "output_folder='/home/lchen12/sctATAC/output/Chien'\n",
    "\n",
    "mv $output_folder/HBV_bulk_FDR_constrast_Bcells_CD3-hi.csv $output_folder/HBV_bulk_FDR_constrast_Bcells_CD3hi.csv\n",
    "mv $output_folder/HBV_bulk_FDR_constrast_Bcells_CD3-hi.csv.annotate $output_folder/HBV_bulk_FDR_constrast_Bcells_CD3hi.csv.annotate\n",
    "mv $output_folder/HBV_bulk_FDR_constrast_Bcells_CD3-low.csv $output_folder/HBV_bulk_FDR_constrast_Bcells_CD3low.csv\n",
    "mv $output_folder/HBV_bulk_FDR_constrast_Bcells_CD3-low.csv.annotate $output_folder/HBV_bulk_FDR_constrast_Bcells_CD3low.csv.annotate\n",
    "mv $output_folder/HBV_bulk_FDR_constrast_CD3-hi_CD3-low.csv $output_folder/HBV_bulk_FDR_constrast_CD3-hi_CD3low.csv\n",
    "mv $output_folder/HBV_bulk_FDR_constrast_CD3-hi_CD3-low.csv.annotate $output_folder/HBV_bulk_FDR_constrast_CD3-hi_CD3low.csv.annotate"
   ]
  },
  {
   "cell_type": "markdown",
   "metadata": {},
   "source": [
    "### Generate specific "
   ]
  },
  {
   "cell_type": "markdown",
   "metadata": {},
   "source": [
    "### Volcano plot"
   ]
  },
  {
   "cell_type": "code",
   "execution_count": null,
   "metadata": {},
   "outputs": [
    {
     "name": "stdout",
     "output_type": "stream",
     "text": [
      "{'text/html': '        <script type=\"text/javascript\">\\n        window.PlotlyConfig = {MathJaxConfig: \\'local\\'};\\n        if (window.MathJax) {MathJax.Hub.Config({SVG: {font: \"STIX-Web\"}});}\\n        if (typeof require !== \\'undefined\\') {\\n        require.undef(\"plotly\");\\n        requirejs.config({\\n            paths: {\\n                \\'plotly\\': [\\'https://cdn.plot.ly/plotly-latest.min\\']\\n            }\\n        });\\n        require([\\'plotly\\'], function(Plotly) {\\n            window._Plotly = Plotly;\\n        });\\n        }\\n        </script>\\n        '}\n",
      "\u001b)0\u001b7\u001b[?1000h\u001b[?1002h\u001b[?1005l\u001b[?1015l\u001b[?1006h\u001b[?1001s\u001b[?1000h\u001b[2J\u001b[1;1H\u001b[1;1H\u001b[0m                                                                                \u001b[2;1H                                                                                \u001b[3;1H                                                                                \u001b[4;1H                                                                                \u001b[5;1H                                                                                \u001b[6;1H                                                                                \u001b[7;1H                                                                                \u001b[8;1H                                                                                \u001b[9;1H                                                                                \u001b[10;1H                                                                                \u001b[11;1H                                                                                \u001b[12;1H                                                                                \u001b[13;1H                                                                                \u001b[14;1H                                                                                \u001b[15;1H                                                                                \u001b[16;1H                                                                                \u001b[17;1H                                                                                \u001b[18;1H                                                                                \u001b[19;1H                                                                                \u001b[20;1H                                                                                \u001b[21;1H                                                                                \u001b[22;1H                                                                                \u001b[23;1H                                                                                \u001b[24;1H\u001b[0;7mOK\u001b[0m                                                                             \u001b[0m\u001b[23;80H"
     ]
    }
   ],
   "source": [
    "! ~/anaconda3/envs/bioinfo/bin/python /home/lchen12/sctATAC/bulk_ATAC/generate_volcano.py"
   ]
  },
  {
   "cell_type": "code",
   "execution_count": 15,
   "metadata": {},
   "outputs": [
    {
     "name": "stdout",
     "output_type": "stream",
     "text": [
      "/scg/apps/software/jupyter/python_3.7/bin/python\r\n"
     ]
    }
   ],
   "source": [
    "! which python"
   ]
  },
  {
   "cell_type": "code",
   "execution_count": null,
   "metadata": {},
   "outputs": [],
   "source": []
  },
  {
   "cell_type": "code",
   "execution_count": null,
   "metadata": {},
   "outputs": [],
   "source": []
  },
  {
   "cell_type": "markdown",
   "metadata": {},
   "source": [
    "# ATAC from Yang lab"
   ]
  },
  {
   "cell_type": "code",
   "execution_count": 3,
   "metadata": {},
   "outputs": [
    {
     "name": "stdout",
     "output_type": "stream",
     "text": [
      "folder exist: CZLPLabT1\n",
      "Submitted batch job 9342528\n",
      "folder exist: CZLPLabT2\n",
      "Submitted batch job 9342529\n",
      "folder exist: CZLPLMAIT1\n",
      "Submitted batch job 9342530\n",
      "folder exist: CZLPLMAIT2\n",
      "Submitted batch job 9342531\n",
      "folder exist: CZLTLabT1\n",
      "Submitted batch job 9342532\n",
      "folder exist: CZLTLabT2\n",
      "Submitted batch job 9342533\n",
      "folder exist: CZLTLgdT1\n",
      "Submitted batch job 9342534\n",
      "folder exist: CZLTLgdT2\n",
      "Submitted batch job 9342535\n",
      "folder exist: CZLTLMAIT1\n",
      "Submitted batch job 9342536\n",
      "folder exist: CZLTLMAIT2\n",
      "Submitted batch job 9342537\n",
      "folder exist: CZLTLPD1neg1\n",
      "Submitted batch job 9342538\n",
      "folder exist: CZLTLPD1neg2\n",
      "Submitted batch job 9342539\n",
      "folder exist: CZLTLPD1pos1\n",
      "Submitted batch job 9342540\n",
      "folder exist: CZLTLPD1pos2\n",
      "Submitted batch job 9342541\n",
      "folder exist: CZLTLTreg1\n",
      "Submitted batch job 9342542\n",
      "folder exist: CZLTLTreg2\n",
      "Submitted batch job 9342543\n",
      "folder exist: XQFPLgdT1\n",
      "Submitted batch job 9342544\n",
      "folder exist: XQFPLgdT2\n",
      "Submitted batch job 9342545\n",
      "folder exist: XQFPLMAIT1\n",
      "Submitted batch job 9342546\n",
      "folder exist: XQFPLMAIT2\n",
      "Submitted batch job 9342547\n"
     ]
    }
   ],
   "source": [
    "!python sctATAC/bulk_ATAC/master_atac-HBV.py \\\n",
    "-f '/labs/mmdavis/chen/ATAC-seq1/bulk_022219' \\\n",
    "-j sctATAC/bulk_ATAC/job_atac.sh"
   ]
  },
  {
   "cell_type": "code",
   "execution_count": 3,
   "metadata": {},
   "outputs": [
    {
     "data": {
      "text/plain": [
       "['XQFPLMAIT1',\n",
       " 'CZLPLMAIT1',\n",
       " 'CZLPLMAIT2',\n",
       " 'CZLPLabT1',\n",
       " 'XQFPLgdT1',\n",
       " 'XQFPLMAIT2',\n",
       " 'XQFPLgdT2',\n",
       " 'CZLTLPD1neg2',\n",
       " 'CZLTLMAIT1',\n",
       " 'CZLPLabT2',\n",
       " 'CZLTLMAIT2',\n",
       " 'CZLTLTreg2',\n",
       " 'CZLTLabT1',\n",
       " 'CZLTLabT2',\n",
       " 'CZLTLgdT1',\n",
       " 'CZLTLTreg1',\n",
       " 'CZLTLPD1pos2',\n",
       " 'CZLTLgdT2',\n",
       " 'CZLTLPD1pos1',\n",
       " 'CZLTLPD1neg1']"
      ]
     },
     "execution_count": 3,
     "metadata": {},
     "output_type": "execute_result"
    }
   ],
   "source": [
    "import os\n",
    "os.listdir('/labs/mmdavis/chen/ATAC-seq1/bulk_022219/output')"
   ]
  },
  {
   "cell_type": "code",
   "execution_count": null,
   "metadata": {},
   "outputs": [],
   "source": [
    "!python sctATAC/bulk_ATAC/master_atac-HBV.py \\\n",
    "-f 'labs/mmdavis/chen/ATAC-seq1/PM-BJ181183-16-bulk' \\\n",
    "-j sctATAC/bulk_ATAC/job_atac.sh"
   ]
  },
  {
   "cell_type": "code",
   "execution_count": 1,
   "metadata": {},
   "outputs": [
    {
     "data": {
      "text/plain": [
       "['H27gdT1',\n",
       " 'H27MaiT1',\n",
       " 'XQFPLMaiT1',\n",
       " 'XQFPLgdT1',\n",
       " 'XQFPLMaiT2',\n",
       " 'XQFPLgdT2',\n",
       " 'H27gdT2',\n",
       " 'H27MaiT2']"
      ]
     },
     "execution_count": 1,
     "metadata": {},
     "output_type": "execute_result"
    }
   ],
   "source": [
    "import os\n",
    "os.listdir('/labs/mmdavis/chen/ATAC-seq1/PM-BJ181183-16-bulk/output')"
   ]
  },
  {
   "cell_type": "code",
   "execution_count": 2,
   "metadata": {},
   "outputs": [
    {
     "data": {
      "text/plain": [
       "['final_treat_pileup.bdg',\n",
       " 'final_peaks.narrowPeak',\n",
       " 'final.bam.bai',\n",
       " 'final_control_lambda.bdg',\n",
       " 'final.bam',\n",
       " 'macs2.out',\n",
       " 'bowtie2_Dmit_30.bam',\n",
       " 'final.bw',\n",
       " 'final_peaks.xls',\n",
       " 'final_summits.bed',\n",
       " 'dup.txt']"
      ]
     },
     "execution_count": 2,
     "metadata": {},
     "output_type": "execute_result"
    }
   ],
   "source": [
    "os.listdir('/labs/mmdavis/chen/ATAC-seq1/PM-BJ181183-16-bulk/output/H27gdT1')"
   ]
  },
  {
   "cell_type": "code",
   "execution_count": null,
   "metadata": {},
   "outputs": [],
   "source": []
  },
  {
   "cell_type": "markdown",
   "metadata": {},
   "source": [
    "### All files that were transferred from YMJ\n",
    "/pfs2/yangpengyuan/youmaojun/YM.bulkcell/read/Health1PBMC1_R1.fq.gz\n",
    "/pfs2/yangpengyuan/youmaojun/YM.bulkcell/read/Health1PBMC1_R2.fq.gz\n",
    "/pfs2/yangpengyuan/youmaojun/YM.bulkcell/read/Health1PBMC2_R1.fq.gz\n",
    "/pfs2/yangpengyuan/youmaojun/YM.bulkcell/read/Health1PBMC2_R2.fq.gz\n",
    "/pfs2/yangpengyuan/youmaojun/YM.bulkcell/read/Health1PBMC3_R1.fq.gz\n",
    "/pfs2/yangpengyuan/youmaojun/YM.bulkcell/read/Health1PBMC3_R2.fq.gz\n",
    "/pfs2/yangpengyuan/youmaojun/YM.bulkcell/read/Health9PBMC1_R1.fq.gz\n",
    "/pfs2/yangpengyuan/youmaojun/YM.bulkcell/read/Health9PBMC1_R2.fq.gz\n",
    "/pfs2/yangpengyuan/youmaojun/YM.bulkcell/read/Health9PBMC2_R1.fq.gz\n",
    "/pfs2/yangpengyuan/youmaojun/YM.bulkcell/read/Health9PBMC2_R2.fq.gz\n",
    "/pfs2/yangpengyuan/youmaojun/YM.bulkcell/read/LFYTL_R1.fq.gz\n",
    "/pfs2/yangpengyuan/youmaojun/YM.bulkcell/read/LFYTL_R2.fq.gz\n",
    "/pfs2/yangpengyuan/youmaojun/YM.bulkcell/read/LGLPLabT1_R1.fq.gz\n",
    "/pfs2/yangpengyuan/youmaojun/YM.bulkcell/read/LGLPLabT1_R2.fq.gz\n",
    "/pfs2/yangpengyuan/youmaojun/YM.bulkcell/read/LGLPLabT2_R1.fq.gz\n",
    "/pfs2/yangpengyuan/youmaojun/YM.bulkcell/read/LGLPLabT2_R2.fq.gz\n",
    "/pfs2/yangpengyuan/youmaojun/YM.bulkcell/read/LGLPLgdT1_R2.fq.gz\n",
    "/pfs2/yangpengyuan/youmaojun/YM.bulkcell/read/LGLTLgdT1_R1.fq.gz\n",
    "/pfs2/yangpengyuan/youmaojun/YM.bulkcell/read/LGLTLgdT1_R2.fq.gz\n",
    "/pfs2/yangpengyuan/youmaojun/YM.bulkcell/read/LGLTLgdT2_R1.fq.gz\n",
    "/pfs2/yangpengyuan/youmaojun/YM.bulkcell/read/LGLTLgdT2_R2.fq.gz\n",
    "/pfs2/yangpengyuan/youmaojun/YM.bulkcell/read/LGLTLTreg1_R1.fq.gz\n",
    "/pfs2/yangpengyuan/youmaojun/YM.bulkcell/read/LGLTLTreg1_R2.fq.gz\n",
    "/pfs2/yangpengyuan/youmaojun/YM.bulkcell/read/LGLTLTreg2_R1.fq.gz\n",
    "/pfs2/yangpengyuan/youmaojun/YM.bulkcell/read/LGLTLTreg2_R2.fq.gz\n",
    "/pfs2/yangpengyuan/youmaojun/YM.bulkcell/read/LGLTLTreg3_R1.fq.gz\n",
    "/pfs2/yangpengyuan/youmaojun/YM.bulkcell/read/LGLTLTreg3_R2.fq.gz\n",
    "/pfs2/yangpengyuan/youmaojun/YM.bulkcell/read/LGLTLTreg4_R1.fq.gz\n",
    "/pfs2/yangpengyuan/youmaojun/YM.bulkcell/read/LGLTLTreg4_R2.fq.gz\n",
    "/pfs2/yangpengyuan/youmaojun/YM.bulkcell/read/LZCPBMC1_R1.fq.gz\n",
    "/pfs2/yangpengyuan/youmaojun/YM.bulkcell/read/LZCPBMC1_R2.fq.gz\n",
    "/pfs2/yangpengyuan/youmaojun/YM.bulkcell/read/LZCPBMC2_R1.fq.gz\n",
    "/pfs2/yangpengyuan/youmaojun/YM.bulkcell/read/LZCPBMC2_R2.fq.gz\n",
    "/pfs2/yangpengyuan/youmaojun/YM.bulkcell/read/LZCPL1_R1.fq.gz\n",
    "/pfs2/yangpengyuan/youmaojun/YM.bulkcell/read/LZCPL1_R2.fq.gz\n",
    "/pfs2/yangpengyuan/youmaojun/YM.bulkcell/read/LZCPL2_R1.fq.gz\n",
    "/pfs2/yangpengyuan/youmaojun/YM.bulkcell/read/LZCPL2_R2.fq.gz\n",
    "/pfs2/yangpengyuan/youmaojun/YM.bulkcell/read/LZCTL1_R1.fq.gz\n",
    "/pfs2/yangpengyuan/youmaojun/YM.bulkcell/read/LZCTL1_R2.fq.gz\n",
    "/pfs2/yangpengyuan/youmaojun/YM.bulkcell/read/LZCTL2_R1.fq.gz\n",
    "/pfs2/yangpengyuan/youmaojun/YM.bulkcell/read/LZCTL2_R2.fq.gz\n",
    "/pfs2/yangpengyuan/youmaojun/YM.bulkcell/read/XQFPLgdT3_R1.fq.gz\n",
    "/pfs2/yangpengyuan/youmaojun/YM.bulkcell/read/XQFPLgdT3_R2.fq.gz\n",
    "/pfs2/yangpengyuan/youmaojun/YM.bulkcell/read/XQFPLgdT4_R1.fq.gz\n",
    "/pfs2/yangpengyuan/youmaojun/YM.bulkcell/read/XQFPLgdT4_R2.fq.gz"
   ]
  },
  {
   "cell_type": "markdown",
   "metadata": {},
   "source": [
    "## Ploting Chien's atac-seq data"
   ]
  },
  {
   "cell_type": "code",
   "execution_count": 3,
   "metadata": {},
   "outputs": [],
   "source": [
    "%%bash\n",
    "input_folder='/labs/mmdavis/chen/Box/collaboration/atac-seq/full/output'\n",
    "peaks_folder='/labs/mmdavis/chen/Box/collaboration/atac-seq/full/peaks'\n",
    "\n",
    "mv $input_folder/Bcells-QFTNegative-50000-NP40-Tween20-TAGGCATG-ATAGAGAG_S9/final_peaks.narrowPeak $peaks_folder/BcellsQFTneg_peaks.narrowPeak\n",
    "mv $input_folder/Bcells-QFTPositive-50000-NP40-Tween20-GGACTCCT-ATAGAGAG_S8/final_peaks.narrowPeak $peaks_folder/BcellsQFTpos_peaks.narrowPeak\n",
    "mv $input_folder/CD3-hi-TCRd-Hi-10000-a-TAAGGCGA-TCTACTCT_S1/final_peaks.narrowPeak $peaks_folder/CD3hi1_peaks.narrowPeak\n",
    "mv $input_folder/CD3-hi-TCRd-Hi-10000-b-CGTACTAG-TCTACTCT_S2/final_peaks.narrowPeak $peaks_folder/CD3hi2_peaks.narrowPeak\n",
    "mv $input_folder/CD3-hi-TCRd-Hi-8000-a-GGACTCCT-TCTACTCT_S5/final_peaks.narrowPeak $peaks_folder/CD3hi3_peaks.narrowPeak\n",
    "mv $input_folder/CD3-hi-TCRd-Hi-8000-b-TAGGCATG-TCTACTCT_S6/final_peaks.narrowPeak $peaks_folder/CD3hi4_peaks.narrowPeak\n",
    "mv $input_folder/CD3-low-TCRd-low-10000-a-AGGCAGAA-TCTACTCT_S3/final_peaks.narrowPeak $peaks_folder/CD3low1_peaks.narrowPeak\n",
    "mv $input_folder/CD3-low-TCRd-low-6000-CTCTCTAC-TCTACTCT_S7/final_peaks.narrowPeak $peaks_folder/CD3low2_peaks.narrowPeak\n",
    "mv $input_folder/CD3-low-TCRd-low-8000-b-TCCTGAGC-TCTACTCT_S4/final_peaks.narrowPeak $peaks_folder/CD3low3_peaks.narrowPeak"
   ]
  },
  {
   "cell_type": "code",
   "execution_count": 13,
   "metadata": {},
   "outputs": [],
   "source": [
    "%%bash\n",
    "\n",
    "peaks_folder='/labs/mmdavis/chen/Box/collaboration/atac-seq/full/peaks'\n",
    "\n",
    "mv $peaks_folder/BcellsQFTpos_peaks.narrowPeak $peaks_folder/BcellsQFTpos.narrowPeak\n",
    "mv $peaks_folder/CD3hi1_peaks.narrowPeak $peaks_folder/CD3hi1.narrowPeak\n",
    "mv $peaks_folder/CD3hi2_peaks.narrowPeak $peaks_folder/CD3hi2.narrowPeak\n",
    "mv $peaks_folder/CD3hi3_peaks.narrowPeak $peaks_folder/CD3hi3.narrowPeak\n",
    "mv $peaks_folder/CD3hi4_peaks.narrowPeak $peaks_folder/CD3hi4.narrowPeak\n",
    "mv $peaks_folder/CD3low1_peaks.narrowPeak $peaks_folder/CD3low1.narrowPeak\n",
    "mv $peaks_folder/CD3low2_peaks.narrowPeak $peaks_folder/CD3low2.narrowPeak\n",
    "mv $peaks_folder/CD3low3_peaks.narrowPeak $peaks_folder/CD3low3.narrowPeak"
   ]
  },
  {
   "cell_type": "code",
   "execution_count": 14,
   "metadata": {},
   "outputs": [
    {
     "name": "stdout",
     "output_type": "stream",
     "text": [
      "Adding narrow_peak file: /labs/mmdavis/chen/Box/collaboration/atac-seq/full/peaks/BcellsQFTpos.narrowPeak\n",
      "\n",
      "Adding narrow_peak file: /labs/mmdavis/chen/Box/collaboration/atac-seq/full/peaks/CD3hi1.narrowPeak\n",
      "\n",
      "Adding narrow_peak file: /labs/mmdavis/chen/Box/collaboration/atac-seq/full/peaks/CD3hi2.narrowPeak\n",
      "\n",
      "Adding narrow_peak file: /labs/mmdavis/chen/Box/collaboration/atac-seq/full/peaks/CD3hi3.narrowPeak\n",
      "\n",
      "Adding narrow_peak file: /labs/mmdavis/chen/Box/collaboration/atac-seq/full/peaks/CD3hi4.narrowPeak\n",
      "\n",
      "Adding narrow_peak file: /labs/mmdavis/chen/Box/collaboration/atac-seq/full/peaks/CD3low1.narrowPeak\n",
      "\n",
      "Adding narrow_peak file: /labs/mmdavis/chen/Box/collaboration/atac-seq/full/peaks/CD3low2.narrowPeak\n",
      "\n",
      "Adding narrow_peak file: /labs/mmdavis/chen/Box/collaboration/atac-seq/full/peaks/CD3low3.narrowPeak\n",
      "\n",
      "Adding bed file: /home/lchen12/sctATAC/input/Genes.bed\n",
      "\n"
     ]
    }
   ],
   "source": [
    "%%bash\n",
    "\n",
    "#!/usr/bin/env bash\n",
    "\n",
    "input_folder='/labs/mmdavis/chen/Box/collaboration/atac-seq/full/output'\n",
    "output_folder='/home/lchen12/output/Chien'\n",
    "gene_list='/home/lchen12/sctATAC/input/example_gene_list.txt'\n",
    "gene_bed_file='/home/lchen12/sctATAC/input/Genes.bed'\n",
    "peaks_folder='/labs/mmdavis/chen/Box/collaboration/atac-seq/full/peaks'\n",
    "\n",
    "~/anaconda3/envs/bioinfo/bin/python /home/lchen12/sctATAC/scT/Trackplot.py make_trackfiles \\\n",
    "--infile  \\\n",
    "$peaks_folder/BcellsQFTpos.narrowPeak \\\n",
    "$peaks_folder/CD3hi1.narrowPeak \\\n",
    "$peaks_folder/CD3hi2.narrowPeak \\\n",
    "$peaks_folder/CD3hi3.narrowPeak \\\n",
    "$peaks_folder/CD3hi4.narrowPeak \\\n",
    "$peaks_folder/CD3low1.narrowPeak \\\n",
    "$peaks_folder/CD3low2.narrowPeak \\\n",
    "$peaks_folder/CD3low3.narrowPeak \\\n",
    "$gene_bed_file \\\n",
    "--outfile $output_folder/example_track.ini"
   ]
  },
  {
   "cell_type": "code",
   "execution_count": 15,
   "metadata": {},
   "outputs": [
    {
     "name": "stdout",
     "output_type": "stream",
     "text": [
      "The bed filetype is: bed13\n"
     ]
    }
   ],
   "source": [
    "%%bash\n",
    "\n",
    "#!/usr/bin/env bash\n",
    "\n",
    "input_folder='/labs/mmdavis/chen/Box/collaboration/atac-seq/full/output'\n",
    "output_folder='/home/lchen12/output/Chien'\n",
    "gene_list='/home/lchen12/sctATAC/input/example_gene_list.txt'\n",
    "gene_bed_file='/home/lchen12/sctATAC/input/Genes.bed'\n",
    "\n",
    "~/anaconda3/envs/bioinfo/bin/python /home/lchen12/sctATAC/scT/Trackplot.py parse_tracks \\\n",
    "--infile $output_folder/example_track.ini \\\n",
    "--outfile1 $output_folder/example_track_obj_list.dil \\\n",
    "--outfile2 $output_folder/example_track_list.dil"
   ]
  },
  {
   "cell_type": "code",
   "execution_count": 11,
   "metadata": {},
   "outputs": [
    {
     "name": "stdout",
     "output_type": "stream",
     "text": [
      "plotting CD8A\n",
      "0 <GenomeTrack.xAxisTrack object at 0x2ae3c1303a58>\n",
      "plotting finished for this track\n",
      "1 <GenomeTrack.SpacerTrack object at 0x2ae3c1303cf8>\n",
      "plotting finished for this track\n",
      "2 <GenomeTrack.NarrowPeakTrack object at 0x2ae3c1303da0>\n",
      "narrowPeak.pkl file exist, load from pkl...\n",
      "plotting finished for this track\n",
      "3 <GenomeTrack.NarrowPeakTrack object at 0x2ae3c130e080>\n",
      "narrowPeak.pkl file exist, load from pkl...\n",
      "plotting finished for this track\n",
      "4 <GenomeTrack.NarrowPeakTrack object at 0x2ae3c130e2e8>\n",
      "narrowPeak.pkl file exist, load from pkl...\n",
      "plotting finished for this track\n",
      "5 <GenomeTrack.NarrowPeakTrack object at 0x2ae3c130e550>\n",
      "narrowPeak.pkl file exist, load from pkl...\n",
      "plotting finished for this track\n",
      "6 <GenomeTrack.NarrowPeakTrack object at 0x2ae3c130e7b8>\n",
      "narrowPeak.pkl file exist, load from pkl...\n",
      "plotting finished for this track\n",
      "7 <GenomeTrack.NarrowPeakTrack object at 0x2ae3c130ea20>\n",
      "narrowPeak.pkl file exist, load from pkl...\n",
      "plotting finished for this track\n",
      "8 <GenomeTrack.NarrowPeakTrack object at 0x2ae3c130ec88>\n",
      "narrowPeak.pkl file exist, load from pkl...\n",
      "plotting finished for this track\n",
      "9 <GenomeTrack.NarrowPeakTrack object at 0x2ae3c130eef0>\n",
      "narrowPeak.pkl file exist, load from pkl...\n",
      "plotting finished for this track\n",
      "10 <GenomeTrack.BedTrack object at 0x2ae3c1312198>\n",
      "plotting finished for this track\n",
      "chr2\n",
      "<class 'str'>\n",
      "plotting IL7\n",
      "0 <GenomeTrack.xAxisTrack object at 0x2ba018110a58>\n",
      "plotting finished for this track\n",
      "1 <GenomeTrack.SpacerTrack object at 0x2ba018110cf8>\n",
      "plotting finished for this track\n",
      "2 <GenomeTrack.NarrowPeakTrack object at 0x2ba018110da0>\n",
      "narrowPeak.pkl file exist, load from pkl...\n",
      "plotting finished for this track\n",
      "3 <GenomeTrack.NarrowPeakTrack object at 0x2ba01811b080>\n",
      "narrowPeak.pkl file exist, load from pkl...\n",
      "plotting finished for this track\n",
      "4 <GenomeTrack.NarrowPeakTrack object at 0x2ba01811b2e8>\n",
      "narrowPeak.pkl file exist, load from pkl...\n",
      "plotting finished for this track\n",
      "5 <GenomeTrack.NarrowPeakTrack object at 0x2ba01811b550>\n",
      "narrowPeak.pkl file exist, load from pkl...\n",
      "plotting finished for this track\n",
      "6 <GenomeTrack.NarrowPeakTrack object at 0x2ba01811b7b8>\n",
      "narrowPeak.pkl file exist, load from pkl...\n",
      "plotting finished for this track\n",
      "7 <GenomeTrack.NarrowPeakTrack object at 0x2ba01811ba20>\n",
      "narrowPeak.pkl file exist, load from pkl...\n",
      "plotting finished for this track\n",
      "8 <GenomeTrack.NarrowPeakTrack object at 0x2ba01811bc88>\n",
      "narrowPeak.pkl file exist, load from pkl...\n",
      "plotting finished for this track\n",
      "9 <GenomeTrack.NarrowPeakTrack object at 0x2ba01811bef0>\n",
      "narrowPeak.pkl file exist, load from pkl...\n",
      "plotting finished for this track\n",
      "10 <GenomeTrack.BedTrack object at 0x2ba01811f198>\n",
      "plotting finished for this track\n",
      "chr8\n",
      "<class 'str'>\n",
      "plotting IL7R\n",
      "0 <GenomeTrack.xAxisTrack object at 0x2af951134a58>\n",
      "plotting finished for this track\n",
      "1 <GenomeTrack.SpacerTrack object at 0x2af951134cf8>\n",
      "plotting finished for this track\n",
      "2 <GenomeTrack.NarrowPeakTrack object at 0x2af951134da0>\n",
      "narrowPeak.pkl file exist, load from pkl...\n",
      "plotting finished for this track\n",
      "3 <GenomeTrack.NarrowPeakTrack object at 0x2af95113f080>\n",
      "narrowPeak.pkl file exist, load from pkl...\n",
      "plotting finished for this track\n",
      "4 <GenomeTrack.NarrowPeakTrack object at 0x2af95113f2e8>\n",
      "narrowPeak.pkl file exist, load from pkl...\n",
      "plotting finished for this track\n",
      "5 <GenomeTrack.NarrowPeakTrack object at 0x2af95113f550>\n",
      "narrowPeak.pkl file exist, load from pkl...\n",
      "plotting finished for this track\n",
      "6 <GenomeTrack.NarrowPeakTrack object at 0x2af95113f7b8>\n",
      "narrowPeak.pkl file exist, load from pkl...\n",
      "plotting finished for this track\n",
      "7 <GenomeTrack.NarrowPeakTrack object at 0x2af95113fa20>\n",
      "narrowPeak.pkl file exist, load from pkl...\n",
      "plotting finished for this track\n",
      "8 <GenomeTrack.NarrowPeakTrack object at 0x2af95113fc88>\n",
      "narrowPeak.pkl file exist, load from pkl...\n",
      "plotting finished for this track\n",
      "9 <GenomeTrack.NarrowPeakTrack object at 0x2af95113fef0>\n",
      "narrowPeak.pkl file exist, load from pkl...\n",
      "plotting finished for this track\n",
      "10 <GenomeTrack.BedTrack object at 0x2af951143198>\n",
      "plotting finished for this track\n",
      "chr5\n",
      "<class 'str'>\n",
      "plotting STAT4\n",
      "0 <GenomeTrack.xAxisTrack object at 0x2aab0447da90>\n",
      "plotting finished for this track\n",
      "1 <GenomeTrack.SpacerTrack object at 0x2aab0447dd30>\n",
      "plotting finished for this track\n",
      "2 <GenomeTrack.NarrowPeakTrack object at 0x2aab0447ddd8>\n",
      "narrowPeak.pkl file exist, load from pkl...\n",
      "plotting finished for this track\n",
      "3 <GenomeTrack.NarrowPeakTrack object at 0x2aab044880b8>\n",
      "narrowPeak.pkl file exist, load from pkl...\n",
      "plotting finished for this track\n",
      "4 <GenomeTrack.NarrowPeakTrack object at 0x2aab04488320>\n",
      "narrowPeak.pkl file exist, load from pkl...\n",
      "plotting finished for this track\n",
      "5 <GenomeTrack.NarrowPeakTrack object at 0x2aab04488588>\n",
      "narrowPeak.pkl file exist, load from pkl...\n",
      "plotting finished for this track\n",
      "6 <GenomeTrack.NarrowPeakTrack object at 0x2aab044887f0>\n",
      "narrowPeak.pkl file exist, load from pkl...\n",
      "plotting finished for this track\n",
      "7 <GenomeTrack.NarrowPeakTrack object at 0x2aab04488a58>\n",
      "narrowPeak.pkl file exist, load from pkl...\n",
      "plotting finished for this track\n",
      "8 <GenomeTrack.NarrowPeakTrack object at 0x2aab04488cc0>\n",
      "narrowPeak.pkl file exist, load from pkl...\n",
      "plotting finished for this track\n",
      "9 <GenomeTrack.NarrowPeakTrack object at 0x2aab04488f28>\n",
      "narrowPeak.pkl file exist, load from pkl...\n",
      "plotting finished for this track\n",
      "10 <GenomeTrack.BedTrack object at 0x2aab0448c1d0>\n",
      "plotting finished for this track\n",
      "chr2\n",
      "<class 'str'>\n"
     ]
    },
    {
     "name": "stderr",
     "output_type": "stream",
     "text": [
      "/home/lchen12/anaconda3/envs/bioinfo/lib/python3.6/site-packages/matplotlib/cbook/__init__.py:424: MatplotlibDeprecationWarning: \n",
      "Passing one of 'on', 'true', 'off', 'false' as a boolean is deprecated; use an actual boolean (True/False) instead.\n",
      "  warn_deprecated(\"2.2\", \"Passing one of 'on', 'true', 'off', 'false' as a \"\n",
      "/home/lchen12/anaconda3/envs/bioinfo/lib/python3.6/site-packages/matplotlib/cbook/__init__.py:424: MatplotlibDeprecationWarning: \n",
      "Passing one of 'on', 'true', 'off', 'false' as a boolean is deprecated; use an actual boolean (True/False) instead.\n",
      "  warn_deprecated(\"2.2\", \"Passing one of 'on', 'true', 'off', 'false' as a \"\n",
      "/home/lchen12/anaconda3/envs/bioinfo/lib/python3.6/site-packages/matplotlib/cbook/__init__.py:424: MatplotlibDeprecationWarning: \n",
      "Passing one of 'on', 'true', 'off', 'false' as a boolean is deprecated; use an actual boolean (True/False) instead.\n",
      "  warn_deprecated(\"2.2\", \"Passing one of 'on', 'true', 'off', 'false' as a \"\n",
      "/home/lchen12/anaconda3/envs/bioinfo/lib/python3.6/site-packages/matplotlib/cbook/__init__.py:424: MatplotlibDeprecationWarning: \n",
      "Passing one of 'on', 'true', 'off', 'false' as a boolean is deprecated; use an actual boolean (True/False) instead.\n",
      "  warn_deprecated(\"2.2\", \"Passing one of 'on', 'true', 'off', 'false' as a \"\n"
     ]
    }
   ],
   "source": [
    "%%bash\n",
    "\n",
    "#!/usr/bin/env bash\n",
    "\n",
    "output_folder='/home/lchen12/output/Chien'\n",
    "input_folder='/labs/mmdavis/chen/Box/collaboration/atac-seq/full/output'\n",
    "output_folder_hi='/home/lchen12/output/Chien/more_open_hi'\n",
    "output_folder_low='/home/lchen12/output/Chien/more_open_low'\n",
    "more_open_hi='/home/lchen12/output/Chien/more_open_hi.txt'\n",
    "more_open_low='/home/lchen12/output/Chien/more_open_hi.txt'\n",
    "gene_bed_file='/home/lchen12/sctATAC/input/Genes.bed'\n",
    "\n",
    "for i in $(cat $more_open_hi)\n",
    "do\n",
    "gene=$(echo $i | awk -F ',' '{print $1}')\n",
    "echo \"plotting\" $gene\n",
    "~/anaconda3/envs/bioinfo/bin/python /home/lchen12/sctATAC/scT/Trackplot.py make_plot \\\n",
    "--track_obj_dil $output_folder/example_track_obj_list.dil \\\n",
    "--track_dil $output_folder/example_track_list.dil \\\n",
    "--infile $output_folder/example_track.ini \\\n",
    "--gene $gene \\\n",
    "--height 30 \\\n",
    "--width 30 \\\n",
    "--outfile $output_folder_hi/\n",
    "done\n",
    "\n",
    "\n",
    "for i in $(cat $more_open_low)\n",
    "do\n",
    "gene=$(echo $i | awk -F ',' '{print $1}')\n",
    "echo \"plotting\" $gene\n",
    "~/anaconda3/envs/bioinfo/bin/python /home/lchen12/sctATAC/scT/Trackplot.py make_plot \\\n",
    "--track_obj_dil $output_folder/example_track_obj_list.dil \\\n",
    "--track_dil $output_folder/example_track_list.dil \\\n",
    "--infile $output_folder/example_track.ini \\\n",
    "--gene $gene \\\n",
    "--height 30 \\\n",
    "--width 30 \\\n",
    "--outfile $output_folder_low/\n",
    "done"
   ]
  },
  {
   "cell_type": "code",
   "execution_count": 18,
   "metadata": {},
   "outputs": [
    {
     "name": "stdout",
     "output_type": "stream",
     "text": [
      "Submitted batch job 9504332\n",
      "Submitted batch job 9504333\n"
     ]
    }
   ],
   "source": [
    "%%bash\n",
    "\n",
    "sbatch --account=mmdavis --partition=batch --chdir=/home/lchen12/output/Chien/ /home/lchen12/output/Chien/hi.sh\n",
    "sbatch --account=mmdavis --partition=batch --chdir=/home/lchen12/output/Chien/ /home/lchen12/output/Chien/low.sh"
   ]
  },
  {
   "cell_type": "code",
   "execution_count": 22,
   "metadata": {},
   "outputs": [
    {
     "name": "stdout",
     "output_type": "stream",
     "text": [
      "             JOBID PARTITION     NAME     USER ST       TIME  NODES NODELIST(REASON)\n",
      "           9504332     batch     plot  lchen12  R      39:06      1 dper730xd-srcf-d16-03\n",
      "           9504333     batch     plot  lchen12  R      39:06      1 dper730xd-srcf-d16-07\n",
      "           9499756     batch sys/dash  lchen12  R    2:27:24      1 dper730xd-srcf-d16-05\n"
     ]
    }
   ],
   "source": [
    "!squeue -u lchen12"
   ]
  },
  {
   "cell_type": "code",
   "execution_count": null,
   "metadata": {},
   "outputs": [],
   "source": []
  }
 ],
 "metadata": {
  "kernelspec": {
   "display_name": "Python 3",
   "language": "python",
   "name": "python3"
  },
  "language_info": {
   "codemirror_mode": {
    "name": "ipython",
    "version": 3
   },
   "file_extension": ".py",
   "mimetype": "text/x-python",
   "name": "python",
   "nbconvert_exporter": "python",
   "pygments_lexer": "ipython3",
   "version": "3.7.1"
  }
 },
 "nbformat": 4,
 "nbformat_minor": 2
}
