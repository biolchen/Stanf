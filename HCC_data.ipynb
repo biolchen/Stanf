{
 "cells": [
  {
   "cell_type": "code",
   "execution_count": 1,
   "metadata": {},
   "outputs": [
    {
     "data": {
      "text/plain": [
       "'/home/lchen12'"
      ]
     },
     "execution_count": 1,
     "metadata": {},
     "output_type": "execute_result"
    }
   ],
   "source": [
    "import os\n",
    "os.getcwd()"
   ]
  },
  {
   "cell_type": "code",
   "execution_count": 2,
   "metadata": {},
   "outputs": [],
   "source": [
    "import sys"
   ]
  },
  {
   "cell_type": "code",
   "execution_count": 4,
   "metadata": {},
   "outputs": [],
   "source": [
    "os.chdir('/labs/mmdavis/chen')"
   ]
  },
  {
   "cell_type": "code",
   "execution_count": 5,
   "metadata": {},
   "outputs": [],
   "source": [
    "fig1_samples=[\"Health9PBMC1\",\"Health9PBMC1\",\"Health9PBMC2\",\"Health9PBMC2\",\"Health1PBMC1\",\"Health1PBMC1\",\"Health1PBMC2\",\"Health1PBMC2\",\"Health1PBMC3\",\"Health1PBMC3\",\"LZCPBMC1\",\"LZCPBMC1\",\"LZCPBMC2\",\"LZCPBMC2\",\"LZCPL1\",\"LZCPL1\",\"LZCPL2\",\"LZCPL2\",\"LGLPLabT1\",\"LGLPLabT1\",\"LZCTL1\",\"LZCTL1\",\"LZCTL2\",\"LZCTL2\",\"H27MaiT1\",\"H27MaiT1\",\"H27MaiT2\",\"H27MaiT2\",\"XQFPLMaiT3\",\"XQFPLMaiT3\",\"XQFPLMaiT4\",\"XQFPLMaiT4\"]"
   ]
  },
  {
   "cell_type": "code",
   "execution_count": 7,
   "metadata": {},
   "outputs": [
    {
     "data": {
      "text/plain": [
       "['/labs/mmdavis/chen/HCC/fig1/bulk_2019/cleanbam/LZCPL2_c3_bowtie2_Dmit_30_dup.bam',\n",
       " '/labs/mmdavis/chen/HCC/fig1/bulk_2019/cleanbam/H27gdT1_c3_bowtie2_Dmit_30_dup.bam',\n",
       " '/labs/mmdavis/chen/HCC/fig1/bulk_2019/cleanbam/LZCPL1_c3_bowtie2_Dmit_30_dup.bam',\n",
       " '/labs/mmdavis/chen/HCC/fig1/bulk_2019/cleanbam/Health9PBMC1_c3_bowtie2_Dmit_30_dup.bam',\n",
       " '/labs/mmdavis/chen/HCC/fig1/bulk_2019/cleanbam/Health1PBMC3_c3_bowtie2_Dmit_30_dup.bam',\n",
       " '/labs/mmdavis/chen/HCC/fig1/bulk_2019/cleanbam/LZCTL1_c3_bowtie2_Dmit_30_dup.bam',\n",
       " '/labs/mmdavis/chen/HCC/fig1/bulk_2019/cleanbam/LGLPLabT1_c3_bowtie2_Dmit_30_dup.bam',\n",
       " '/labs/mmdavis/chen/HCC/fig1/bulk_2019/cleanbam/Health1PBMC2_c3_bowtie2_Dmit_30_dup.bam',\n",
       " '/labs/mmdavis/chen/HCC/fig1/bulk_2019/cleanbam/Health1PBMC1_c3_bowtie2_Dmit_30_dup.bam',\n",
       " '/labs/mmdavis/chen/HCC/fig1/bulk_2019/cleanbam/XQFPLMaiT4_c3_bowtie2_Dmit_30_dup.bam',\n",
       " '/labs/mmdavis/chen/HCC/fig1/bulk_2019/cleanbam/LZCPBMC2_c3_bowtie2_Dmit_30_dup.bam',\n",
       " '/labs/mmdavis/chen/HCC/fig1/bulk_2019/cleanbam/LZCTL2_c3_bowtie2_Dmit_30_dup.bam',\n",
       " '/labs/mmdavis/chen/HCC/fig1/bulk_2019/cleanbam/LGLTLTreg3_c3_bowtie2_Dmit_30_dup.bam',\n",
       " '/labs/mmdavis/chen/HCC/fig1/bulk_2019/cleanbam/LGLPLabT2_c3_bowtie2_Dmit_30_dup.bam',\n",
       " '/labs/mmdavis/chen/HCC/fig1/bulk_2019/cleanbam/H27gdT2_c3_bowtie2_Dmit_30_dup.bam',\n",
       " '/labs/mmdavis/chen/HCC/fig1/bulk_2019/cleanbam/XQFPLgdT3_c3_bowtie2_Dmit_30_dup.bam',\n",
       " '/labs/mmdavis/chen/HCC/fig1/bulk_2019/cleanbam/H27MaiT2_c3_bowtie2_Dmit_30_dup.bam',\n",
       " '/labs/mmdavis/chen/HCC/fig1/bulk_2019/cleanbam/LZCPBMC1_c3_bowtie2_Dmit_30_dup.bam',\n",
       " '/labs/mmdavis/chen/HCC/fig1/bulk_2019/cleanbam/XQFPLgdT4_c3_bowtie2_Dmit_30_dup.bam',\n",
       " '/labs/mmdavis/chen/HCC/fig1/bulk_2019/cleanbam/LFYTL_c3_bowtie2_Dmit_30_dup.bam',\n",
       " '/labs/mmdavis/chen/HCC/fig1/bulk_2019/cleanbam/H27MaiT1_c3_bowtie2_Dmit_30_dup.bam',\n",
       " '/labs/mmdavis/chen/HCC/fig1/bulk_2019/cleanbam/LGLTLTreg2_c3_bowtie2_Dmit_30_dup.bam',\n",
       " '/labs/mmdavis/chen/HCC/fig1/bulk_2019/cleanbam/XQFPLMaiT3_c3_bowtie2_Dmit_30_dup.bam',\n",
       " '/labs/mmdavis/chen/HCC/fig1/bulk_2019/cleanbam/Health9PBMC2_c3_bowtie2_Dmit_30_dup.bam']"
      ]
     },
     "execution_count": 7,
     "metadata": {},
     "output_type": "execute_result"
    }
   ],
   "source": [
    "from glob import glob\n",
    "glob('/labs/mmdavis/chen/HCC/fig1/bulk_2019/cleanbam/*.bam')"
   ]
  },
  {
   "cell_type": "code",
   "execution_count": 15,
   "metadata": {},
   "outputs": [],
   "source": [
    "fig1_bam = set([os.path.basename(x) for x in glob('/labs/mmdavis/chen/HCC/fig1/bulk_2019/cleanbam/*.bam')])"
   ]
  },
  {
   "cell_type": "code",
   "execution_count": 17,
   "metadata": {},
   "outputs": [
    {
     "name": "stdout",
     "output_type": "stream",
     "text": [
      "yes\n",
      "yes\n",
      "yes\n",
      "yes\n",
      "yes\n",
      "yes\n",
      "yes\n",
      "yes\n",
      "yes\n",
      "yes\n",
      "yes\n",
      "yes\n",
      "yes\n",
      "yes\n",
      "yes\n",
      "yes\n",
      "yes\n",
      "yes\n",
      "yes\n",
      "yes\n",
      "yes\n",
      "yes\n",
      "yes\n",
      "yes\n",
      "yes\n",
      "yes\n",
      "yes\n",
      "yes\n",
      "yes\n",
      "yes\n",
      "yes\n",
      "yes\n"
     ]
    }
   ],
   "source": [
    "for i in fig1_samples:\n",
    "    if i+'_c3_bowtie2_Dmit_30_dup.bam' in fig1_bam:\n",
    "        print('yes')\n",
    "    else:\n",
    "        print('no')"
   ]
  },
  {
   "cell_type": "code",
   "execution_count": null,
   "metadata": {},
   "outputs": [],
   "source": []
  }
 ],
 "metadata": {
  "kernelspec": {
   "display_name": "Python 3",
   "language": "python",
   "name": "python3"
  },
  "language_info": {
   "codemirror_mode": {
    "name": "ipython",
    "version": 3
   },
   "file_extension": ".py",
   "mimetype": "text/x-python",
   "name": "python",
   "nbconvert_exporter": "python",
   "pygments_lexer": "ipython3",
   "version": "3.7.4"
  }
 },
 "nbformat": 4,
 "nbformat_minor": 2
}
