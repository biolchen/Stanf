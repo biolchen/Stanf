{
 "cells": [
  {
   "cell_type": "code",
   "execution_count": 3,
   "metadata": {},
   "outputs": [],
   "source": [
    "import pandas as pd\n",
    "import os\n",
    "from glob import glob\n",
    "from collections import Counter\n",
    "import sqlite3"
   ]
  },
  {
   "cell_type": "code",
   "execution_count": 4,
   "metadata": {},
   "outputs": [],
   "source": [
    "f='/labs/mmdavis/chen/tcr/bulk_data_3/TRB'"
   ]
  },
  {
   "cell_type": "markdown",
   "metadata": {},
   "source": [
    "## test"
   ]
  },
  {
   "cell_type": "code",
   "execution_count": 10,
   "metadata": {},
   "outputs": [],
   "source": [
    "df=pd.read_csv('/labs/mmdavis/chen/tcr/bulk_data_3/TRB/HD_KIR_NEG5.TRB',sep='\\t')"
   ]
  },
  {
   "cell_type": "code",
   "execution_count": 11,
   "metadata": {},
   "outputs": [
    {
     "data": {
      "text/html": [
       "<div>\n",
       "<style scoped>\n",
       "    .dataframe tbody tr th:only-of-type {\n",
       "        vertical-align: middle;\n",
       "    }\n",
       "\n",
       "    .dataframe tbody tr th {\n",
       "        vertical-align: top;\n",
       "    }\n",
       "\n",
       "    .dataframe thead th {\n",
       "        text-align: right;\n",
       "    }\n",
       "</style>\n",
       "<table border=\"1\" class=\"dataframe\">\n",
       "  <thead>\n",
       "    <tr style=\"text-align: right;\">\n",
       "      <th></th>\n",
       "      <th>cloneId</th>\n",
       "      <th>cloneCount</th>\n",
       "      <th>cloneFraction</th>\n",
       "      <th>targetSequences</th>\n",
       "      <th>targetQualities</th>\n",
       "      <th>allVHitsWithScore</th>\n",
       "      <th>allDHitsWithScore</th>\n",
       "      <th>allJHitsWithScore</th>\n",
       "      <th>allCHitsWithScore</th>\n",
       "      <th>allVAlignments</th>\n",
       "      <th>...</th>\n",
       "      <th>nSeqFR4</th>\n",
       "      <th>minQualFR4</th>\n",
       "      <th>aaSeqFR1</th>\n",
       "      <th>aaSeqCDR1</th>\n",
       "      <th>aaSeqFR2</th>\n",
       "      <th>aaSeqCDR2</th>\n",
       "      <th>aaSeqFR3</th>\n",
       "      <th>aaSeqCDR3</th>\n",
       "      <th>aaSeqFR4</th>\n",
       "      <th>refPoints</th>\n",
       "    </tr>\n",
       "  </thead>\n",
       "  <tbody>\n",
       "    <tr>\n",
       "      <th>0</th>\n",
       "      <td>0</td>\n",
       "      <td>3779.0</td>\n",
       "      <td>0.030025</td>\n",
       "      <td>TGTGCCAGCAGCCCATCGGTTTCCTACGAGCAGTACTTC</td>\n",
       "      <td>CCCCCCCCCCCCCCCCCCCCCCCCCCCCCCCCCCCCCCC</td>\n",
       "      <td>TRBV9*00(449)</td>\n",
       "      <td>NaN</td>\n",
       "      <td>TRBJ2-7*00(228.1)</td>\n",
       "      <td>TRBC2*00(297.6),TRBC1*00(264.1)</td>\n",
       "      <td>270|282|306|0|12||60.0</td>\n",
       "      <td>...</td>\n",
       "      <td>NaN</td>\n",
       "      <td>NaN</td>\n",
       "      <td>NaN</td>\n",
       "      <td>NaN</td>\n",
       "      <td>NaN</td>\n",
       "      <td>NaN</td>\n",
       "      <td>NaN</td>\n",
       "      <td>CASSPSVSYEQYF</td>\n",
       "      <td>NaN</td>\n",
       "      <td>:::::::::0:-4:12:::::21:-1:39:::</td>\n",
       "    </tr>\n",
       "    <tr>\n",
       "      <th>1</th>\n",
       "      <td>1</td>\n",
       "      <td>2959.0</td>\n",
       "      <td>0.023510</td>\n",
       "      <td>TGTGCCACCAGTGCTGGGGAAACTGAAGCTTTCTTT</td>\n",
       "      <td>CCCCCCCCCCCCCCCCCCCCCCCCCCCCCCCCCCCC</td>\n",
       "      <td>TRBV24-1*00(479.6)</td>\n",
       "      <td>NaN</td>\n",
       "      <td>TRBJ1-1*00(217.3)</td>\n",
       "      <td>TRBC1*00(300.2),TRBC2*00(265.2)</td>\n",
       "      <td>270|283|308|0|13||65.0</td>\n",
       "      <td>...</td>\n",
       "      <td>NaN</td>\n",
       "      <td>NaN</td>\n",
       "      <td>NaN</td>\n",
       "      <td>NaN</td>\n",
       "      <td>NaN</td>\n",
       "      <td>NaN</td>\n",
       "      <td>NaN</td>\n",
       "      <td>CATSAGETEAFF</td>\n",
       "      <td>NaN</td>\n",
       "      <td>:::::::::0:-5:13:::::18:-1:36:::</td>\n",
       "    </tr>\n",
       "  </tbody>\n",
       "</table>\n",
       "<p>2 rows × 35 columns</p>\n",
       "</div>"
      ],
      "text/plain": [
       "   cloneId  cloneCount  cloneFraction  \\\n",
       "0        0      3779.0       0.030025   \n",
       "1        1      2959.0       0.023510   \n",
       "\n",
       "                           targetSequences  \\\n",
       "0  TGTGCCAGCAGCCCATCGGTTTCCTACGAGCAGTACTTC   \n",
       "1     TGTGCCACCAGTGCTGGGGAAACTGAAGCTTTCTTT   \n",
       "\n",
       "                           targetQualities   allVHitsWithScore  \\\n",
       "0  CCCCCCCCCCCCCCCCCCCCCCCCCCCCCCCCCCCCCCC       TRBV9*00(449)   \n",
       "1     CCCCCCCCCCCCCCCCCCCCCCCCCCCCCCCCCCCC  TRBV24-1*00(479.6)   \n",
       "\n",
       "  allDHitsWithScore  allJHitsWithScore                allCHitsWithScore  \\\n",
       "0               NaN  TRBJ2-7*00(228.1)  TRBC2*00(297.6),TRBC1*00(264.1)   \n",
       "1               NaN  TRBJ1-1*00(217.3)  TRBC1*00(300.2),TRBC2*00(265.2)   \n",
       "\n",
       "           allVAlignments  ... nSeqFR4 minQualFR4 aaSeqFR1  aaSeqCDR1  \\\n",
       "0  270|282|306|0|12||60.0  ...     NaN        NaN      NaN        NaN   \n",
       "1  270|283|308|0|13||65.0  ...     NaN        NaN      NaN        NaN   \n",
       "\n",
       "   aaSeqFR2  aaSeqCDR2  aaSeqFR3      aaSeqCDR3  aaSeqFR4  \\\n",
       "0       NaN        NaN       NaN  CASSPSVSYEQYF       NaN   \n",
       "1       NaN        NaN       NaN   CATSAGETEAFF       NaN   \n",
       "\n",
       "                          refPoints  \n",
       "0  :::::::::0:-4:12:::::21:-1:39:::  \n",
       "1  :::::::::0:-5:13:::::18:-1:36:::  \n",
       "\n",
       "[2 rows x 35 columns]"
      ]
     },
     "execution_count": 11,
     "metadata": {},
     "output_type": "execute_result"
    }
   ],
   "source": [
    "df.head(2)"
   ]
  },
  {
   "cell_type": "code",
   "execution_count": 51,
   "metadata": {
    "scrolled": true
   },
   "outputs": [
    {
     "ename": "NameError",
     "evalue": "name 'df' is not defined",
     "output_type": "error",
     "traceback": [
      "\u001b[0;31m---------------------------------------------------------------------------\u001b[0m",
      "\u001b[0;31mNameError\u001b[0m                                 Traceback (most recent call last)",
      "\u001b[0;32m<ipython-input-51-1aa996e5696e>\u001b[0m in \u001b[0;36m<module>\u001b[0;34m\u001b[0m\n\u001b[0;32m----> 1\u001b[0;31m \u001b[0mv_list\u001b[0m\u001b[0;34m=\u001b[0m\u001b[0mlist\u001b[0m\u001b[0;34m(\u001b[0m\u001b[0mdf\u001b[0m\u001b[0;34m[\u001b[0m\u001b[0;34m'allVHitsWithScore'\u001b[0m\u001b[0;34m]\u001b[0m\u001b[0;34m)\u001b[0m\u001b[0;34m\u001b[0m\u001b[0;34m\u001b[0m\u001b[0m\n\u001b[0m\u001b[1;32m      2\u001b[0m \u001b[0;34m\u001b[0m\u001b[0m\n\u001b[1;32m      3\u001b[0m \u001b[0;34m\u001b[0m\u001b[0m\n\u001b[1;32m      4\u001b[0m \u001b[0mcount_v\u001b[0m\u001b[0;34m=\u001b[0m\u001b[0mdict\u001b[0m\u001b[0;34m(\u001b[0m\u001b[0;34m)\u001b[0m\u001b[0;34m\u001b[0m\u001b[0;34m\u001b[0m\u001b[0m\n\u001b[1;32m      5\u001b[0m \u001b[0;32mfor\u001b[0m \u001b[0mi\u001b[0m \u001b[0;32min\u001b[0m \u001b[0mv_list\u001b[0m\u001b[0;34m:\u001b[0m\u001b[0;34m\u001b[0m\u001b[0;34m\u001b[0m\u001b[0m\n",
      "\u001b[0;31mNameError\u001b[0m: name 'df' is not defined"
     ]
    }
   ],
   "source": [
    "v_list=list(df['allVHitsWithScore'])\n",
    "\n",
    "count_v=dict()\n",
    "for i in v_list:\n",
    "    a=i.split('*')[0]\n",
    "    if a not in count_v:\n",
    "        count_v[a]=1\n",
    "    else:\n",
    "        count_v[a]+=1"
   ]
  },
  {
   "cell_type": "code",
   "execution_count": 50,
   "metadata": {},
   "outputs": [
    {
     "ename": "TypeError",
     "evalue": "object of type 'function' has no len()",
     "output_type": "error",
     "traceback": [
      "\u001b[0;31m---------------------------------------------------------------------------\u001b[0m",
      "\u001b[0;31mTypeError\u001b[0m                                 Traceback (most recent call last)",
      "\u001b[0;32m<ipython-input-50-abd4c54f0cef>\u001b[0m in \u001b[0;36m<module>\u001b[0;34m\u001b[0m\n\u001b[0;32m----> 1\u001b[0;31m \u001b[0mpd\u001b[0m\u001b[0;34m.\u001b[0m\u001b[0mDataFrame\u001b[0m\u001b[0;34m.\u001b[0m\u001b[0mfrom_dict\u001b[0m\u001b[0;34m(\u001b[0m\u001b[0mcount_v\u001b[0m\u001b[0;34m,\u001b[0m\u001b[0morient\u001b[0m\u001b[0;34m=\u001b[0m\u001b[0;34m'index'\u001b[0m\u001b[0;34m)\u001b[0m\u001b[0;34m.\u001b[0m\u001b[0mhead\u001b[0m\u001b[0;34m(\u001b[0m\u001b[0;36m2\u001b[0m\u001b[0;34m)\u001b[0m\u001b[0;34m\u001b[0m\u001b[0;34m\u001b[0m\u001b[0m\n\u001b[0m",
      "\u001b[0;32m/scg/apps/software/jupyter/python_3.7/lib/python3.7/site-packages/pandas/core/frame.py\u001b[0m in \u001b[0;36mfrom_dict\u001b[0;34m(cls, data, orient, dtype, columns)\u001b[0m\n\u001b[1;32m   1123\u001b[0m         \u001b[0morient\u001b[0m \u001b[0;34m=\u001b[0m \u001b[0morient\u001b[0m\u001b[0;34m.\u001b[0m\u001b[0mlower\u001b[0m\u001b[0;34m(\u001b[0m\u001b[0;34m)\u001b[0m\u001b[0;34m\u001b[0m\u001b[0;34m\u001b[0m\u001b[0m\n\u001b[1;32m   1124\u001b[0m         \u001b[0;32mif\u001b[0m \u001b[0morient\u001b[0m \u001b[0;34m==\u001b[0m \u001b[0;34m'index'\u001b[0m\u001b[0;34m:\u001b[0m\u001b[0;34m\u001b[0m\u001b[0;34m\u001b[0m\u001b[0m\n\u001b[0;32m-> 1125\u001b[0;31m             \u001b[0;32mif\u001b[0m \u001b[0mlen\u001b[0m\u001b[0;34m(\u001b[0m\u001b[0mdata\u001b[0m\u001b[0;34m)\u001b[0m \u001b[0;34m>\u001b[0m \u001b[0;36m0\u001b[0m\u001b[0;34m:\u001b[0m\u001b[0;34m\u001b[0m\u001b[0;34m\u001b[0m\u001b[0m\n\u001b[0m\u001b[1;32m   1126\u001b[0m                 \u001b[0;31m# TODO speed up Series case\u001b[0m\u001b[0;34m\u001b[0m\u001b[0;34m\u001b[0m\u001b[0;34m\u001b[0m\u001b[0m\n\u001b[1;32m   1127\u001b[0m                 \u001b[0;32mif\u001b[0m \u001b[0misinstance\u001b[0m\u001b[0;34m(\u001b[0m\u001b[0mlist\u001b[0m\u001b[0;34m(\u001b[0m\u001b[0mdata\u001b[0m\u001b[0;34m.\u001b[0m\u001b[0mvalues\u001b[0m\u001b[0;34m(\u001b[0m\u001b[0;34m)\u001b[0m\u001b[0;34m)\u001b[0m\u001b[0;34m[\u001b[0m\u001b[0;36m0\u001b[0m\u001b[0;34m]\u001b[0m\u001b[0;34m,\u001b[0m \u001b[0;34m(\u001b[0m\u001b[0mSeries\u001b[0m\u001b[0;34m,\u001b[0m \u001b[0mdict\u001b[0m\u001b[0;34m)\u001b[0m\u001b[0;34m)\u001b[0m\u001b[0;34m:\u001b[0m\u001b[0;34m\u001b[0m\u001b[0;34m\u001b[0m\u001b[0m\n",
      "\u001b[0;31mTypeError\u001b[0m: object of type 'function' has no len()"
     ]
    }
   ],
   "source": [
    "pd.DataFrame.from_dict(count_v,orient='index').head(2)"
   ]
  },
  {
   "cell_type": "code",
   "execution_count": 16,
   "metadata": {},
   "outputs": [
    {
     "data": {
      "text/plain": [
       "pandas.core.series.Series"
      ]
     },
     "execution_count": 16,
     "metadata": {},
     "output_type": "execute_result"
    }
   ],
   "source": [
    "cdr3_list=(df['aaSeqCDR3'])\n",
    "type(cdr3_list)"
   ]
  },
  {
   "cell_type": "code",
   "execution_count": 36,
   "metadata": {},
   "outputs": [],
   "source": [
    "df_filtered=df[~df['aaSeqCDR3'].str.contains('_|\\*', regex=True)]\n",
    "df_filtered=df_filtered[['aaSeqCDR3', 'cloneCount']]"
   ]
  },
  {
   "cell_type": "code",
   "execution_count": 37,
   "metadata": {},
   "outputs": [
    {
     "data": {
      "text/html": [
       "<div>\n",
       "<style scoped>\n",
       "    .dataframe tbody tr th:only-of-type {\n",
       "        vertical-align: middle;\n",
       "    }\n",
       "\n",
       "    .dataframe tbody tr th {\n",
       "        vertical-align: top;\n",
       "    }\n",
       "\n",
       "    .dataframe thead th {\n",
       "        text-align: right;\n",
       "    }\n",
       "</style>\n",
       "<table border=\"1\" class=\"dataframe\">\n",
       "  <thead>\n",
       "    <tr style=\"text-align: right;\">\n",
       "      <th></th>\n",
       "      <th>aaSeqCDR3</th>\n",
       "      <th>cloneCount</th>\n",
       "    </tr>\n",
       "  </thead>\n",
       "  <tbody>\n",
       "    <tr>\n",
       "      <th>0</th>\n",
       "      <td>CASSRGTGSYEQYF</td>\n",
       "      <td>9936.0</td>\n",
       "    </tr>\n",
       "    <tr>\n",
       "      <th>1</th>\n",
       "      <td>CASSFDSGSYEQYF</td>\n",
       "      <td>6683.0</td>\n",
       "    </tr>\n",
       "    <tr>\n",
       "      <th>2</th>\n",
       "      <td>CASSPTGGGSGTEAFF</td>\n",
       "      <td>4793.0</td>\n",
       "    </tr>\n",
       "    <tr>\n",
       "      <th>3</th>\n",
       "      <td>CASSYLGRDEETQYF</td>\n",
       "      <td>3059.0</td>\n",
       "    </tr>\n",
       "    <tr>\n",
       "      <th>4</th>\n",
       "      <td>CASSLQGSQGNNQPQHF</td>\n",
       "      <td>3047.0</td>\n",
       "    </tr>\n",
       "  </tbody>\n",
       "</table>\n",
       "</div>"
      ],
      "text/plain": [
       "           aaSeqCDR3  cloneCount\n",
       "0     CASSRGTGSYEQYF      9936.0\n",
       "1     CASSFDSGSYEQYF      6683.0\n",
       "2   CASSPTGGGSGTEAFF      4793.0\n",
       "3    CASSYLGRDEETQYF      3059.0\n",
       "4  CASSLQGSQGNNQPQHF      3047.0"
      ]
     },
     "execution_count": 37,
     "metadata": {},
     "output_type": "execute_result"
    }
   ],
   "source": [
    "df_filtered.head()"
   ]
  },
  {
   "cell_type": "markdown",
   "metadata": {},
   "source": [
    "## Sample List"
   ]
  },
  {
   "cell_type": "code",
   "execution_count": 25,
   "metadata": {},
   "outputs": [],
   "source": [
    "sample_list_batch1_batch2 = [\n",
    "\"CeD_KIR_NEG\",\"CeD_KIR_POS\",\"HD_KIR_NEG2\",\"HD_KIR_NEG3\",\n",
    "\"HD_KIR_NEG4\",\"HD_KIR_NEG\",\"HD_KIR_POS2\",\"HD_KIR_POS3\",\n",
    "\"HD_KIR_POS4\",\"HD_KIR_POS\",\"MS_KIR_NEG1\",\"MS_KIR_NEG2\",\n",
    "\"MS_KIR_NEG\",\"MS_KIR_POS1\",\"MS_KIR_POS2\",\"MS_KIR_POS\",\n",
    "\"SLE_KIR_NEG2\",\"SLE_KIR_NEG3\",\"SLE_KIR_NEG4\",\"SLE_KIR_NEG\",\n",
    "\"SLE_KIR_POS2\",\"SLE_KIR_POS3\",\"SLE_KIR_POS4\",\"SLE_KIR_POS\",\n",
    "]"
   ]
  },
  {
   "cell_type": "markdown",
   "metadata": {},
   "source": [
    "## Functions"
   ]
  },
  {
   "cell_type": "markdown",
   "metadata": {},
   "source": []
  },
  {
   "cell_type": "code",
   "execution_count": 18,
   "metadata": {},
   "outputs": [],
   "source": [
    "def save_cdr3(input_sample):\n",
    "    \"\"\"Generate tables for cdr3 counts and save to sqlite db\n",
    "    \"\"\"\n",
    "    df=pd.read_csv('/labs/mmdavis/chen/tcr/bulk_data_3/TRB/{}.TRB'.format(input_sample) ,sep='\\t')\n",
    "    df_filtered=df[~df['aaSeqCDR3'].str.contains('_|\\*', regex=True)]\n",
    "    df_filtered=df_filtered[['aaSeqCDR3', 'cloneCount']]\n",
    "    conn=sqlite3.connect('/labs/mmdavis/chen/tcr/jing_TCR.db')\n",
    "    df_filtered.to_sql(\"{}\".format(input_sample), conn, if_exists=\"replace\", index=False)\n",
    "    conn.close()"
   ]
  },
  {
   "cell_type": "markdown",
   "metadata": {},
   "source": [
    "#### Batch1 and Batch2 TCR"
   ]
  },
  {
   "cell_type": "code",
   "execution_count": 2,
   "metadata": {},
   "outputs": [
    {
     "ename": "NameError",
     "evalue": "name 'sample_list' is not defined",
     "output_type": "error",
     "traceback": [
      "\u001b[0;31m---------------------------------------------------------------------------\u001b[0m",
      "\u001b[0;31mNameError\u001b[0m                                 Traceback (most recent call last)",
      "\u001b[0;32m<ipython-input-2-dde1212322b2>\u001b[0m in \u001b[0;36m<module>\u001b[0;34m\u001b[0m\n\u001b[0;32m----> 1\u001b[0;31m \u001b[0;32mfor\u001b[0m \u001b[0mi\u001b[0m \u001b[0;32min\u001b[0m \u001b[0msample_list\u001b[0m\u001b[0;34m:\u001b[0m\u001b[0;34m\u001b[0m\u001b[0;34m\u001b[0m\u001b[0m\n\u001b[0m\u001b[1;32m      2\u001b[0m     \u001b[0msave_cdr3\u001b[0m\u001b[0;34m(\u001b[0m\u001b[0mi\u001b[0m\u001b[0;34m)\u001b[0m\u001b[0;34m\u001b[0m\u001b[0;34m\u001b[0m\u001b[0m\n",
      "\u001b[0;31mNameError\u001b[0m: name 'sample_list' is not defined"
     ]
    }
   ],
   "source": [
    "sample_list_batch1_batch2 = [\n",
    "\"CeD_KIR_NEG\",\"CeD_KIR_POS\",\"HD_KIR_NEG2\",\"HD_KIR_NEG3\",\n",
    "\"HD_KIR_NEG4\",\"HD_KIR_NEG\",\"HD_KIR_POS2\",\"HD_KIR_POS3\",\n",
    "\"HD_KIR_POS4\",\"HD_KIR_POS\",\"MS_KIR_NEG1\",\"MS_KIR_NEG2\",\n",
    "\"MS_KIR_NEG\",\"MS_KIR_POS1\",\"MS_KIR_POS2\",\"MS_KIR_POS\",\n",
    "\"SLE_KIR_NEG2\",\"SLE_KIR_NEG3\",\"SLE_KIR_NEG4\",\"SLE_KIR_NEG\",\n",
    "\"SLE_KIR_POS2\",\"SLE_KIR_POS3\",\"SLE_KIR_POS4\",\"SLE_KIR_POS\",\n",
    "]\n",
    "\n",
    "for i in sample_list_batch1_batch2:\n",
    "    save_cdr3(i)"
   ]
  },
  {
   "cell_type": "markdown",
   "metadata": {},
   "source": [
    "#### Batch3 TCR"
   ]
  },
  {
   "cell_type": "code",
   "execution_count": 19,
   "metadata": {},
   "outputs": [],
   "source": [
    "sample_list_batch3 = [\n",
    "\"SLE_KIR_POS7\",\n",
    "\"SLE_KIR_NEG7\",\n",
    "\"SLE_KIR_POS8\",\n",
    "\"SLE_KIR_NEG8\",\n",
    "\"HD_KIR_POS5\",\n",
    "\"HD_KIR_NEG5\",\n",
    "\"HD_KIR_POS6\",\n",
    "\"HD_KIR_NEG6\",\n",
    "]\n",
    "\n",
    "for i in sample_list_batch3:\n",
    "    save_cdr3(i)"
   ]
  },
  {
   "cell_type": "code",
   "execution_count": 80,
   "metadata": {},
   "outputs": [],
   "source": [
    "def count_v(input_sample):\n",
    "    df=pd.read_csv('/labs/mmdavis/chen/tcr/TRB/{}.TRB'.format(input_sample) ,sep='\\t')\n",
    "    df_filtered=df[~df['aaSeqCDR3'].str.contains('_|\\*', regex=True)]\n",
    "    v_list=list(df_filtered['allVHitsWithScore'])\n",
    "    \n",
    "    count_v=dict()\n",
    "    \n",
    "    for i in v_list:\n",
    "        a=i.split('*')[0]\n",
    "        if a not in count_v:\n",
    "            count_v[a]=1\n",
    "        else:\n",
    "            count_v[a]+=1\n",
    "    df_V_count=pd.DataFrame.from_dict(count_v, orient='index',columns=[input_sample])\n",
    "    return df_V_count\n",
    "\n",
    "def count_v2(input_sample):\n",
    "    df=pd.read_csv('/labs/mmdavis/chen/tcr/TRB/{}.TRB'.format(input_sample) ,sep='\\t')\n",
    "    df_filtered=df[~df['aaSeqCDR3'].str.contains('_|\\*', regex=True)]\n",
    "    v_list=list(df_filtered['allVHitsWithScore'])\n",
    "    \n",
    "    count_v=dict()\n",
    "    \n",
    "    for i in v_list:\n",
    "        a=i.split('*')[0]\n",
    "        if a not in count_v:\n",
    "            count_v[a]=1\n",
    "        else:\n",
    "            count_v[a]+=1\n",
    "    df_V_count=pd.DataFrame.from_dict(count_v, orient='index',columns=['count'])\n",
    "    df_V_count.to_sql('{}_V_count'.format(input_sample), conn, if_exists = \"replace\", index = True)\n",
    "\n",
    "def count_v_df_list():\n",
    "    dfs=list()\n",
    "    for i in sample_list:\n",
    "        df=count_v(i)\n",
    "        dfs.append(df)\n",
    "    return dfs\n",
    "\n",
    "for i in sample_list:\n",
    "    count_v2(i)"
   ]
  },
  {
   "cell_type": "code",
   "execution_count": 31,
   "metadata": {},
   "outputs": [],
   "source": [
    "#!jupyter nbconvert --to script JingLi_TCR.ipynb"
   ]
  },
  {
   "cell_type": "code",
   "execution_count": 55,
   "metadata": {},
   "outputs": [],
   "source": [
    "dfs=count_v_df_list()"
   ]
  },
  {
   "cell_type": "code",
   "execution_count": 49,
   "metadata": {},
   "outputs": [
    {
     "data": {
      "text/html": [
       "<div>\n",
       "<style scoped>\n",
       "    .dataframe tbody tr th:only-of-type {\n",
       "        vertical-align: middle;\n",
       "    }\n",
       "\n",
       "    .dataframe tbody tr th {\n",
       "        vertical-align: top;\n",
       "    }\n",
       "\n",
       "    .dataframe thead th {\n",
       "        text-align: right;\n",
       "    }\n",
       "</style>\n",
       "<table border=\"1\" class=\"dataframe\">\n",
       "  <thead>\n",
       "    <tr style=\"text-align: right;\">\n",
       "      <th></th>\n",
       "      <th>CeD_KIR_NEG</th>\n",
       "      <th>CeD_KIR_POS</th>\n",
       "      <th>HD_KIR_NEG2</th>\n",
       "      <th>HD_KIR_NEG3</th>\n",
       "      <th>HD_KIR_NEG4</th>\n",
       "      <th>HD_KIR_NEG</th>\n",
       "      <th>HD_KIR_POS2</th>\n",
       "      <th>HD_KIR_POS3</th>\n",
       "      <th>HD_KIR_POS4</th>\n",
       "      <th>HD_KIR_POS</th>\n",
       "      <th>...</th>\n",
       "      <th>MS_KIR_POS2</th>\n",
       "      <th>MS_KIR_POS</th>\n",
       "      <th>SLE_KIR_NEG2</th>\n",
       "      <th>SLE_KIR_NEG3</th>\n",
       "      <th>SLE_KIR_NEG4</th>\n",
       "      <th>SLE_KIR_NEG</th>\n",
       "      <th>SLE_KIR_POS2</th>\n",
       "      <th>SLE_KIR_POS3</th>\n",
       "      <th>SLE_KIR_POS4</th>\n",
       "      <th>SLE_KIR_POS</th>\n",
       "    </tr>\n",
       "  </thead>\n",
       "  <tbody>\n",
       "    <tr>\n",
       "      <th>TRBV5-4</th>\n",
       "      <td>420</td>\n",
       "      <td>219.0</td>\n",
       "      <td>420.0</td>\n",
       "      <td>563.0</td>\n",
       "      <td>370.0</td>\n",
       "      <td>663.0</td>\n",
       "      <td>228.0</td>\n",
       "      <td>204.0</td>\n",
       "      <td>151.0</td>\n",
       "      <td>203.0</td>\n",
       "      <td>...</td>\n",
       "      <td>39.0</td>\n",
       "      <td>47.0</td>\n",
       "      <td>472.0</td>\n",
       "      <td>602.0</td>\n",
       "      <td>324.0</td>\n",
       "      <td>650.0</td>\n",
       "      <td>178.0</td>\n",
       "      <td>283.0</td>\n",
       "      <td>159.0</td>\n",
       "      <td>94.0</td>\n",
       "    </tr>\n",
       "    <tr>\n",
       "      <th>TRBV7-6</th>\n",
       "      <td>716</td>\n",
       "      <td>447.0</td>\n",
       "      <td>458.0</td>\n",
       "      <td>1149.0</td>\n",
       "      <td>700.0</td>\n",
       "      <td>904.0</td>\n",
       "      <td>278.0</td>\n",
       "      <td>1035.0</td>\n",
       "      <td>207.0</td>\n",
       "      <td>411.0</td>\n",
       "      <td>...</td>\n",
       "      <td>118.0</td>\n",
       "      <td>73.0</td>\n",
       "      <td>662.0</td>\n",
       "      <td>674.0</td>\n",
       "      <td>509.0</td>\n",
       "      <td>1283.0</td>\n",
       "      <td>258.0</td>\n",
       "      <td>295.0</td>\n",
       "      <td>376.0</td>\n",
       "      <td>312.0</td>\n",
       "    </tr>\n",
       "    <tr>\n",
       "      <th>TRBV7-8</th>\n",
       "      <td>638</td>\n",
       "      <td>439.0</td>\n",
       "      <td>290.0</td>\n",
       "      <td>407.0</td>\n",
       "      <td>395.0</td>\n",
       "      <td>476.0</td>\n",
       "      <td>148.0</td>\n",
       "      <td>196.0</td>\n",
       "      <td>117.0</td>\n",
       "      <td>202.0</td>\n",
       "      <td>...</td>\n",
       "      <td>44.0</td>\n",
       "      <td>9.0</td>\n",
       "      <td>571.0</td>\n",
       "      <td>453.0</td>\n",
       "      <td>365.0</td>\n",
       "      <td>99.0</td>\n",
       "      <td>159.0</td>\n",
       "      <td>158.0</td>\n",
       "      <td>213.0</td>\n",
       "      <td>28.0</td>\n",
       "    </tr>\n",
       "    <tr>\n",
       "      <th>TRBV7-2</th>\n",
       "      <td>1380</td>\n",
       "      <td>985.0</td>\n",
       "      <td>585.0</td>\n",
       "      <td>746.0</td>\n",
       "      <td>667.0</td>\n",
       "      <td>1438.0</td>\n",
       "      <td>331.0</td>\n",
       "      <td>422.0</td>\n",
       "      <td>387.0</td>\n",
       "      <td>580.0</td>\n",
       "      <td>...</td>\n",
       "      <td>122.0</td>\n",
       "      <td>87.0</td>\n",
       "      <td>1035.0</td>\n",
       "      <td>738.0</td>\n",
       "      <td>553.0</td>\n",
       "      <td>422.0</td>\n",
       "      <td>405.0</td>\n",
       "      <td>251.0</td>\n",
       "      <td>286.0</td>\n",
       "      <td>292.0</td>\n",
       "    </tr>\n",
       "    <tr>\n",
       "      <th>TRBV5-6</th>\n",
       "      <td>801</td>\n",
       "      <td>338.0</td>\n",
       "      <td>329.0</td>\n",
       "      <td>908.0</td>\n",
       "      <td>670.0</td>\n",
       "      <td>724.0</td>\n",
       "      <td>269.0</td>\n",
       "      <td>408.0</td>\n",
       "      <td>107.0</td>\n",
       "      <td>297.0</td>\n",
       "      <td>...</td>\n",
       "      <td>122.0</td>\n",
       "      <td>59.0</td>\n",
       "      <td>845.0</td>\n",
       "      <td>582.0</td>\n",
       "      <td>509.0</td>\n",
       "      <td>380.0</td>\n",
       "      <td>425.0</td>\n",
       "      <td>270.0</td>\n",
       "      <td>238.0</td>\n",
       "      <td>36.0</td>\n",
       "    </tr>\n",
       "  </tbody>\n",
       "</table>\n",
       "<p>5 rows × 24 columns</p>\n",
       "</div>"
      ],
      "text/plain": [
       "         CeD_KIR_NEG  CeD_KIR_POS  HD_KIR_NEG2  HD_KIR_NEG3  HD_KIR_NEG4  \\\n",
       "TRBV5-4          420        219.0        420.0        563.0        370.0   \n",
       "TRBV7-6          716        447.0        458.0       1149.0        700.0   \n",
       "TRBV7-8          638        439.0        290.0        407.0        395.0   \n",
       "TRBV7-2         1380        985.0        585.0        746.0        667.0   \n",
       "TRBV5-6          801        338.0        329.0        908.0        670.0   \n",
       "\n",
       "         HD_KIR_NEG  HD_KIR_POS2  HD_KIR_POS3  HD_KIR_POS4  HD_KIR_POS  ...  \\\n",
       "TRBV5-4       663.0        228.0        204.0        151.0       203.0  ...   \n",
       "TRBV7-6       904.0        278.0       1035.0        207.0       411.0  ...   \n",
       "TRBV7-8       476.0        148.0        196.0        117.0       202.0  ...   \n",
       "TRBV7-2      1438.0        331.0        422.0        387.0       580.0  ...   \n",
       "TRBV5-6       724.0        269.0        408.0        107.0       297.0  ...   \n",
       "\n",
       "         MS_KIR_POS2  MS_KIR_POS  SLE_KIR_NEG2  SLE_KIR_NEG3  SLE_KIR_NEG4  \\\n",
       "TRBV5-4         39.0        47.0         472.0         602.0         324.0   \n",
       "TRBV7-6        118.0        73.0         662.0         674.0         509.0   \n",
       "TRBV7-8         44.0         9.0         571.0         453.0         365.0   \n",
       "TRBV7-2        122.0        87.0        1035.0         738.0         553.0   \n",
       "TRBV5-6        122.0        59.0         845.0         582.0         509.0   \n",
       "\n",
       "         SLE_KIR_NEG  SLE_KIR_POS2  SLE_KIR_POS3  SLE_KIR_POS4  SLE_KIR_POS  \n",
       "TRBV5-4        650.0         178.0         283.0         159.0         94.0  \n",
       "TRBV7-6       1283.0         258.0         295.0         376.0        312.0  \n",
       "TRBV7-8         99.0         159.0         158.0         213.0         28.0  \n",
       "TRBV7-2        422.0         405.0         251.0         286.0        292.0  \n",
       "TRBV5-6        380.0         425.0         270.0         238.0         36.0  \n",
       "\n",
       "[5 rows x 24 columns]"
      ]
     },
     "execution_count": 49,
     "metadata": {},
     "output_type": "execute_result"
    }
   ],
   "source": [
    "from functools import reduce\n",
    "df_final = reduce(lambda left,right: pd.DataFrame.join(left,right), dfs)\n",
    "df_final.head()"
   ]
  },
  {
   "cell_type": "code",
   "execution_count": 67,
   "metadata": {},
   "outputs": [],
   "source": [
    "df_final.to_sql('V_count', conn, if_exists = \"replace\", index = True)"
   ]
  },
  {
   "cell_type": "markdown",
   "metadata": {},
   "source": [
    "## Analysis of V gene bias"
   ]
  },
  {
   "cell_type": "code",
   "execution_count": 68,
   "metadata": {},
   "outputs": [],
   "source": [
    "import sqlite3\n",
    "conn=sqlite3.connect('/labs/mmdavis/chen/tcr/jing_TCR.db')"
   ]
  },
  {
   "cell_type": "code",
   "execution_count": 69,
   "metadata": {},
   "outputs": [],
   "source": [
    "V_count=pd.read_sql_query('select * from V_count', conn)"
   ]
  },
  {
   "cell_type": "code",
   "execution_count": 70,
   "metadata": {},
   "outputs": [],
   "source": [
    "df=V_count.head()"
   ]
  },
  {
   "cell_type": "code",
   "execution_count": 73,
   "metadata": {},
   "outputs": [],
   "source": [
    "df1=pd.melt(df, id_vars=['index'], value_vars=sample_list)"
   ]
  },
  {
   "cell_type": "code",
   "execution_count": 74,
   "metadata": {},
   "outputs": [
    {
     "data": {
      "text/html": [
       "<div>\n",
       "<style scoped>\n",
       "    .dataframe tbody tr th:only-of-type {\n",
       "        vertical-align: middle;\n",
       "    }\n",
       "\n",
       "    .dataframe tbody tr th {\n",
       "        vertical-align: top;\n",
       "    }\n",
       "\n",
       "    .dataframe thead th {\n",
       "        text-align: right;\n",
       "    }\n",
       "</style>\n",
       "<table border=\"1\" class=\"dataframe\">\n",
       "  <thead>\n",
       "    <tr style=\"text-align: right;\">\n",
       "      <th></th>\n",
       "      <th>index</th>\n",
       "      <th>variable</th>\n",
       "      <th>value</th>\n",
       "    </tr>\n",
       "  </thead>\n",
       "  <tbody>\n",
       "    <tr>\n",
       "      <th>0</th>\n",
       "      <td>TRBV5-4</td>\n",
       "      <td>CeD_KIR_NEG</td>\n",
       "      <td>420.0</td>\n",
       "    </tr>\n",
       "    <tr>\n",
       "      <th>1</th>\n",
       "      <td>TRBV7-6</td>\n",
       "      <td>CeD_KIR_NEG</td>\n",
       "      <td>716.0</td>\n",
       "    </tr>\n",
       "    <tr>\n",
       "      <th>2</th>\n",
       "      <td>TRBV7-8</td>\n",
       "      <td>CeD_KIR_NEG</td>\n",
       "      <td>638.0</td>\n",
       "    </tr>\n",
       "    <tr>\n",
       "      <th>3</th>\n",
       "      <td>TRBV7-2</td>\n",
       "      <td>CeD_KIR_NEG</td>\n",
       "      <td>1380.0</td>\n",
       "    </tr>\n",
       "    <tr>\n",
       "      <th>4</th>\n",
       "      <td>TRBV5-6</td>\n",
       "      <td>CeD_KIR_NEG</td>\n",
       "      <td>801.0</td>\n",
       "    </tr>\n",
       "  </tbody>\n",
       "</table>\n",
       "</div>"
      ],
      "text/plain": [
       "     index     variable   value\n",
       "0  TRBV5-4  CeD_KIR_NEG   420.0\n",
       "1  TRBV7-6  CeD_KIR_NEG   716.0\n",
       "2  TRBV7-8  CeD_KIR_NEG   638.0\n",
       "3  TRBV7-2  CeD_KIR_NEG  1380.0\n",
       "4  TRBV5-6  CeD_KIR_NEG   801.0"
      ]
     },
     "execution_count": 74,
     "metadata": {},
     "output_type": "execute_result"
    }
   ],
   "source": [
    "df1.head()"
   ]
  },
  {
   "cell_type": "code",
   "execution_count": null,
   "metadata": {},
   "outputs": [],
   "source": []
  },
  {
   "cell_type": "code",
   "execution_count": null,
   "metadata": {},
   "outputs": [],
   "source": []
  },
  {
   "cell_type": "code",
   "execution_count": null,
   "metadata": {},
   "outputs": [],
   "source": []
  },
  {
   "cell_type": "code",
   "execution_count": null,
   "metadata": {},
   "outputs": [],
   "source": [
    "pd.melt(df, id_vars=['A'], value_vars=['B'])"
   ]
  },
  {
   "cell_type": "code",
   "execution_count": 63,
   "metadata": {},
   "outputs": [],
   "source": [
    "import matplotlib.pyplot as plt"
   ]
  },
  {
   "cell_type": "code",
   "execution_count": null,
   "metadata": {},
   "outputs": [],
   "source": [
    "fig = plt.figure()\n",
    "ax1 = fig.add_subplot(2,3,1)\n",
    "ax2 = fig.add_subplot(2,3,2)\n",
    "ax3 = fig.add_subplot(2,3,3)\n",
    "ax4 = fig.add_subplot(2,3,4)\n",
    "ax5 = fig.add_subplot(2,3,5)\n",
    "ax6 = fig.add_subplot(2,3,6)"
   ]
  },
  {
   "cell_type": "code",
   "execution_count": null,
   "metadata": {},
   "outputs": [],
   "source": []
  },
  {
   "cell_type": "code",
   "execution_count": null,
   "metadata": {},
   "outputs": [],
   "source": []
  },
  {
   "cell_type": "markdown",
   "metadata": {},
   "source": [
    "# 10-01-19"
   ]
  },
  {
   "cell_type": "code",
   "execution_count": null,
   "metadata": {},
   "outputs": [],
   "source": [
    "\"5-2071unstim_S7_L001_R2_001.fastq.gz\"\n",
    "\"5-2071unstim_S7_L001_R1_001.fastq.gz\"\n",
    "\"3-1505KIR-CD8_S5_L001_R1_001.fastq.gz\"\n",
    "\"3-1505KIR-CD8_S5_L001_R2_001.fastq.gz\"\n",
    "\"7-2071KIR-CD8_S9_L001_R2_001.fastq.gz\"\n",
    "\"7-2071KIR-CD8_S9_L001_R1_001.fastq.gz\"\n",
    "\"2-1505noCD8_S4_L001_R2_001.fastq.gz\"\n",
    "\"2-1505noCD8_S4_L001_R1_001.fastq.gz\"\n",
    "\"6-2071noCD8_S8_L001_R1_001.fastq.gz\"\n",
    "\"6-2071noCD8_S8_L001_R2_001.fastq.gz\"\n",
    "\"1-1505unstim_S3_L001_R2_001.fastq.gz\"\n",
    "\"1-1505unstim_S3_L001_R1_001.fastq.gz\"\n",
    "\"8-2071KIRplusCD8_S10_L001_R2_001.fastq.gz\"\n",
    "\"8-2071KIRplusCD8_S10_L001_R1_001.fastq.gz\"\n",
    "\"4-1505KIRplusCD8_S6_L001_R2_001.fastq.gz\"\n",
    "\"4-1505KIRplusCD8_S6_L001_R1_001.fastq.gz\"\n",
    "\n"
   ]
  }
 ],
 "metadata": {
  "kernelspec": {
   "display_name": "Python 3",
   "language": "python",
   "name": "python3"
  },
  "language_info": {
   "codemirror_mode": {
    "name": "ipython",
    "version": 3
   },
   "file_extension": ".py",
   "mimetype": "text/x-python",
   "name": "python",
   "nbconvert_exporter": "python",
   "pygments_lexer": "ipython3",
   "version": "3.7.3"
  }
 },
 "nbformat": 4,
 "nbformat_minor": 2
}
